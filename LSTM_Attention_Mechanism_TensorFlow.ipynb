{
  "nbformat": 4,
  "nbformat_minor": 0,
  "metadata": {
    "colab": {
      "provenance": [],
      "authorship_tag": "ABX9TyN24do0uzSFqdjcyfRD2x9T",
      "include_colab_link": true
    },
    "kernelspec": {
      "name": "python3",
      "display_name": "Python 3"
    },
    "language_info": {
      "name": "python"
    }
  },
  "cells": [
    {
      "cell_type": "markdown",
      "metadata": {
        "id": "view-in-github",
        "colab_type": "text"
      },
      "source": [
        "<a href=\"https://colab.research.google.com/github/likeshd/time_series_models_libraries/blob/main/LSTM_Attention_Mechanism_TensorFlow.ipynb\" target=\"_parent\"><img src=\"https://colab.research.google.com/assets/colab-badge.svg\" alt=\"Open In Colab\"/></a>"
      ]
    },
    {
      "cell_type": "markdown",
      "source": [
        "## Introduction\n",
        "In the rapidly evolving world of financial markets, accurate predictions are akin to a holy grail. As we seek more sophisticated techniques to interpret market trends, machine learning emerges as a beacon of hope. Among various machine learning models, Long Short-Term Memory (LSTM) networks have gained significant attention. When combined with the attention mechanism, these models become even more powerful, especially in analyzing time-series data like stock prices. This article delves into the intriguing world of LSTM networks paired with attention mechanisms, focusing on predicting the pattern of the next four candles in the stock price of Apple Inc. (AAPL), utilizing data from Yahoo Finance (yfinance)."
      ],
      "metadata": {
        "id": "_l9ojNooVA1p"
      }
    },
    {
      "cell_type": "markdown",
      "source": [
        "## Section 1: Understanding LSTM and Attention in Financial Modelling\n",
        "## The Basics of LSTM Networks\n",
        "LSTM networks are a type of Recurrent Neural Network (RNN) specially designed to remember and process sequences of data over long periods. What sets LSTMs apart from traditional RNNs is their ability to preserve information for long durations, courtesy of their unique structure comprising three gates: the input, forget, and output gates. These gates collaboratively manage the flow of information, deciding what to retain and what to discard, thereby mitigating the issue of vanishing gradients — a common problem in standard RNNs.\n",
        "\n",
        "In the context of financial markets, this capability to remember and utilize long-term dependencies is invaluable. Stock prices, for instance, aren’t just influenced by recent trends but also by patterns established over time. LSTM networks adeptly capture these temporal dependencies, making them ideal for financial time series analysis."
      ],
      "metadata": {
        "id": "EiB-ba7EVJoZ"
      }
    },
    {
      "cell_type": "markdown",
      "source": [
        "## Attention Mechanism: Enhancing LSTM\n",
        "The attention mechanism, initially popularized in the field of natural language processing, has found its way into various other domains, including finance. It operates on a simple yet profound concept: not all parts of the input sequence are equally important. By allowing the model to focus on specific parts of the input sequence while ignoring others, the attention mechanism enhances the model’s context understanding capabilities.\n",
        "\n",
        "Incorporating attention into LSTM networks results in a more focused and context-aware model. When predicting stock prices, certain historical data points may be more relevant than others. The attention mechanism empowers the LSTM to weigh these points more heavily, leading to more accurate and nuanced predictions."
      ],
      "metadata": {
        "id": "zPbUnAJYVQqj"
      }
    },
    {
      "cell_type": "markdown",
      "source": [
        "## The Relevance in Financial Pattern Prediction\n",
        "The amalgamation of LSTM with attention mechanisms creates a robust model for financial pattern prediction. The financial market is a complex adaptive system, influenced by a multitude of factors and exhibiting non-linear characteristics. Traditional models often fall short in capturing this complexity. However, LSTM networks, especially when combined with an attention mechanism, are adept at unraveling these patterns, offering a deeper understanding and more accurate forecasts of future stock movements.\n",
        "\n",
        "As we proceed to build and implement an LSTM with an attention mechanism to predict the next four candles of AAPL’s stock, we delve into a sophisticated realm of financial analysis, one that holds the promise of revolutionizing how we interpret and respond to the ever-changing dynamics of the stock market."
      ],
      "metadata": {
        "id": "_jrbVRK1VU4B"
      }
    },
    {
      "cell_type": "markdown",
      "source": [
        "## Section 2: Setting Up Environment."
      ],
      "metadata": {
        "id": "zmjJBhmiaqZz"
      }
    },
    {
      "cell_type": "code",
      "source": [
        "import tensorflow as tf\n",
        "import keras\n",
        "import yfinance as yf\n",
        "import numpy as np\n",
        "import pandas as pd\n",
        "import matplotlib.pyplot as plt\n",
        "\n",
        "# Check TensorFlow version\n",
        "print(\"TensorFlow Version: \", tf.__version__)"
      ],
      "metadata": {
        "colab": {
          "base_uri": "https://localhost:8080/"
        },
        "id": "KXOqe8evUxG9",
        "outputId": "2d8ef343-cdb3-40b0-9d89-80b124510f28"
      },
      "execution_count": 1,
      "outputs": [
        {
          "output_type": "stream",
          "name": "stdout",
          "text": [
            "TensorFlow Version:  2.15.0\n"
          ]
        }
      ]
    },
    {
      "cell_type": "markdown",
      "source": [
        "## Data Acquisition from yfinance\n",
        "## Fetching Historical Data\n",
        "To analyze AAPL stock patterns, we need historical stock price data. Here’s where yfinance comes into play. This library is designed to fetch historical market data from Yahoo Finance.\n",
        "\n"
      ],
      "metadata": {
        "id": "0o3h44f2a8gO"
      }
    },
    {
      "cell_type": "code",
      "source": [
        "# Fetch AAPL data\n",
        "aapl_data = yf.download('AAPL', start='2020-01-01', end='2024-01-01')\n",
        "\n",
        "# Display the first few rows of the dataframe\n",
        "aapl_data.head()"
      ],
      "metadata": {
        "colab": {
          "base_uri": "https://localhost:8080/",
          "height": 255
        },
        "id": "DLbZxR8Ka3fg",
        "outputId": "afc78576-d98a-4ab2-8cc3-bd8f3506d5d2"
      },
      "execution_count": 2,
      "outputs": [
        {
          "output_type": "stream",
          "name": "stderr",
          "text": [
            "\r[*********************100%%**********************]  1 of 1 completed\n"
          ]
        },
        {
          "output_type": "execute_result",
          "data": {
            "text/plain": [
              "                 Open       High        Low      Close  Adj Close     Volume\n",
              "Date                                                                        \n",
              "2020-01-02  74.059998  75.150002  73.797501  75.087502  73.059418  135480400\n",
              "2020-01-03  74.287498  75.144997  74.125000  74.357498  72.349152  146322800\n",
              "2020-01-06  73.447502  74.989998  73.187500  74.949997  72.925636  118387200\n",
              "2020-01-07  74.959999  75.224998  74.370003  74.597504  72.582649  108872000\n",
              "2020-01-08  74.290001  76.110001  74.290001  75.797501  73.750244  132079200"
            ],
            "text/html": [
              "\n",
              "  <div id=\"df-3fc1671b-2176-472c-b5f6-9094fbf49da4\" class=\"colab-df-container\">\n",
              "    <div>\n",
              "<style scoped>\n",
              "    .dataframe tbody tr th:only-of-type {\n",
              "        vertical-align: middle;\n",
              "    }\n",
              "\n",
              "    .dataframe tbody tr th {\n",
              "        vertical-align: top;\n",
              "    }\n",
              "\n",
              "    .dataframe thead th {\n",
              "        text-align: right;\n",
              "    }\n",
              "</style>\n",
              "<table border=\"1\" class=\"dataframe\">\n",
              "  <thead>\n",
              "    <tr style=\"text-align: right;\">\n",
              "      <th></th>\n",
              "      <th>Open</th>\n",
              "      <th>High</th>\n",
              "      <th>Low</th>\n",
              "      <th>Close</th>\n",
              "      <th>Adj Close</th>\n",
              "      <th>Volume</th>\n",
              "    </tr>\n",
              "    <tr>\n",
              "      <th>Date</th>\n",
              "      <th></th>\n",
              "      <th></th>\n",
              "      <th></th>\n",
              "      <th></th>\n",
              "      <th></th>\n",
              "      <th></th>\n",
              "    </tr>\n",
              "  </thead>\n",
              "  <tbody>\n",
              "    <tr>\n",
              "      <th>2020-01-02</th>\n",
              "      <td>74.059998</td>\n",
              "      <td>75.150002</td>\n",
              "      <td>73.797501</td>\n",
              "      <td>75.087502</td>\n",
              "      <td>73.059418</td>\n",
              "      <td>135480400</td>\n",
              "    </tr>\n",
              "    <tr>\n",
              "      <th>2020-01-03</th>\n",
              "      <td>74.287498</td>\n",
              "      <td>75.144997</td>\n",
              "      <td>74.125000</td>\n",
              "      <td>74.357498</td>\n",
              "      <td>72.349152</td>\n",
              "      <td>146322800</td>\n",
              "    </tr>\n",
              "    <tr>\n",
              "      <th>2020-01-06</th>\n",
              "      <td>73.447502</td>\n",
              "      <td>74.989998</td>\n",
              "      <td>73.187500</td>\n",
              "      <td>74.949997</td>\n",
              "      <td>72.925636</td>\n",
              "      <td>118387200</td>\n",
              "    </tr>\n",
              "    <tr>\n",
              "      <th>2020-01-07</th>\n",
              "      <td>74.959999</td>\n",
              "      <td>75.224998</td>\n",
              "      <td>74.370003</td>\n",
              "      <td>74.597504</td>\n",
              "      <td>72.582649</td>\n",
              "      <td>108872000</td>\n",
              "    </tr>\n",
              "    <tr>\n",
              "      <th>2020-01-08</th>\n",
              "      <td>74.290001</td>\n",
              "      <td>76.110001</td>\n",
              "      <td>74.290001</td>\n",
              "      <td>75.797501</td>\n",
              "      <td>73.750244</td>\n",
              "      <td>132079200</td>\n",
              "    </tr>\n",
              "  </tbody>\n",
              "</table>\n",
              "</div>\n",
              "    <div class=\"colab-df-buttons\">\n",
              "\n",
              "  <div class=\"colab-df-container\">\n",
              "    <button class=\"colab-df-convert\" onclick=\"convertToInteractive('df-3fc1671b-2176-472c-b5f6-9094fbf49da4')\"\n",
              "            title=\"Convert this dataframe to an interactive table.\"\n",
              "            style=\"display:none;\">\n",
              "\n",
              "  <svg xmlns=\"http://www.w3.org/2000/svg\" height=\"24px\" viewBox=\"0 -960 960 960\">\n",
              "    <path d=\"M120-120v-720h720v720H120Zm60-500h600v-160H180v160Zm220 220h160v-160H400v160Zm0 220h160v-160H400v160ZM180-400h160v-160H180v160Zm440 0h160v-160H620v160ZM180-180h160v-160H180v160Zm440 0h160v-160H620v160Z\"/>\n",
              "  </svg>\n",
              "    </button>\n",
              "\n",
              "  <style>\n",
              "    .colab-df-container {\n",
              "      display:flex;\n",
              "      gap: 12px;\n",
              "    }\n",
              "\n",
              "    .colab-df-convert {\n",
              "      background-color: #E8F0FE;\n",
              "      border: none;\n",
              "      border-radius: 50%;\n",
              "      cursor: pointer;\n",
              "      display: none;\n",
              "      fill: #1967D2;\n",
              "      height: 32px;\n",
              "      padding: 0 0 0 0;\n",
              "      width: 32px;\n",
              "    }\n",
              "\n",
              "    .colab-df-convert:hover {\n",
              "      background-color: #E2EBFA;\n",
              "      box-shadow: 0px 1px 2px rgba(60, 64, 67, 0.3), 0px 1px 3px 1px rgba(60, 64, 67, 0.15);\n",
              "      fill: #174EA6;\n",
              "    }\n",
              "\n",
              "    .colab-df-buttons div {\n",
              "      margin-bottom: 4px;\n",
              "    }\n",
              "\n",
              "    [theme=dark] .colab-df-convert {\n",
              "      background-color: #3B4455;\n",
              "      fill: #D2E3FC;\n",
              "    }\n",
              "\n",
              "    [theme=dark] .colab-df-convert:hover {\n",
              "      background-color: #434B5C;\n",
              "      box-shadow: 0px 1px 3px 1px rgba(0, 0, 0, 0.15);\n",
              "      filter: drop-shadow(0px 1px 2px rgba(0, 0, 0, 0.3));\n",
              "      fill: #FFFFFF;\n",
              "    }\n",
              "  </style>\n",
              "\n",
              "    <script>\n",
              "      const buttonEl =\n",
              "        document.querySelector('#df-3fc1671b-2176-472c-b5f6-9094fbf49da4 button.colab-df-convert');\n",
              "      buttonEl.style.display =\n",
              "        google.colab.kernel.accessAllowed ? 'block' : 'none';\n",
              "\n",
              "      async function convertToInteractive(key) {\n",
              "        const element = document.querySelector('#df-3fc1671b-2176-472c-b5f6-9094fbf49da4');\n",
              "        const dataTable =\n",
              "          await google.colab.kernel.invokeFunction('convertToInteractive',\n",
              "                                                    [key], {});\n",
              "        if (!dataTable) return;\n",
              "\n",
              "        const docLinkHtml = 'Like what you see? Visit the ' +\n",
              "          '<a target=\"_blank\" href=https://colab.research.google.com/notebooks/data_table.ipynb>data table notebook</a>'\n",
              "          + ' to learn more about interactive tables.';\n",
              "        element.innerHTML = '';\n",
              "        dataTable['output_type'] = 'display_data';\n",
              "        await google.colab.output.renderOutput(dataTable, element);\n",
              "        const docLink = document.createElement('div');\n",
              "        docLink.innerHTML = docLinkHtml;\n",
              "        element.appendChild(docLink);\n",
              "      }\n",
              "    </script>\n",
              "  </div>\n",
              "\n",
              "\n",
              "<div id=\"df-a0958be6-fb48-4bb2-b345-a5e8a48bc6e6\">\n",
              "  <button class=\"colab-df-quickchart\" onclick=\"quickchart('df-a0958be6-fb48-4bb2-b345-a5e8a48bc6e6')\"\n",
              "            title=\"Suggest charts\"\n",
              "            style=\"display:none;\">\n",
              "\n",
              "<svg xmlns=\"http://www.w3.org/2000/svg\" height=\"24px\"viewBox=\"0 0 24 24\"\n",
              "     width=\"24px\">\n",
              "    <g>\n",
              "        <path d=\"M19 3H5c-1.1 0-2 .9-2 2v14c0 1.1.9 2 2 2h14c1.1 0 2-.9 2-2V5c0-1.1-.9-2-2-2zM9 17H7v-7h2v7zm4 0h-2V7h2v10zm4 0h-2v-4h2v4z\"/>\n",
              "    </g>\n",
              "</svg>\n",
              "  </button>\n",
              "\n",
              "<style>\n",
              "  .colab-df-quickchart {\n",
              "      --bg-color: #E8F0FE;\n",
              "      --fill-color: #1967D2;\n",
              "      --hover-bg-color: #E2EBFA;\n",
              "      --hover-fill-color: #174EA6;\n",
              "      --disabled-fill-color: #AAA;\n",
              "      --disabled-bg-color: #DDD;\n",
              "  }\n",
              "\n",
              "  [theme=dark] .colab-df-quickchart {\n",
              "      --bg-color: #3B4455;\n",
              "      --fill-color: #D2E3FC;\n",
              "      --hover-bg-color: #434B5C;\n",
              "      --hover-fill-color: #FFFFFF;\n",
              "      --disabled-bg-color: #3B4455;\n",
              "      --disabled-fill-color: #666;\n",
              "  }\n",
              "\n",
              "  .colab-df-quickchart {\n",
              "    background-color: var(--bg-color);\n",
              "    border: none;\n",
              "    border-radius: 50%;\n",
              "    cursor: pointer;\n",
              "    display: none;\n",
              "    fill: var(--fill-color);\n",
              "    height: 32px;\n",
              "    padding: 0;\n",
              "    width: 32px;\n",
              "  }\n",
              "\n",
              "  .colab-df-quickchart:hover {\n",
              "    background-color: var(--hover-bg-color);\n",
              "    box-shadow: 0 1px 2px rgba(60, 64, 67, 0.3), 0 1px 3px 1px rgba(60, 64, 67, 0.15);\n",
              "    fill: var(--button-hover-fill-color);\n",
              "  }\n",
              "\n",
              "  .colab-df-quickchart-complete:disabled,\n",
              "  .colab-df-quickchart-complete:disabled:hover {\n",
              "    background-color: var(--disabled-bg-color);\n",
              "    fill: var(--disabled-fill-color);\n",
              "    box-shadow: none;\n",
              "  }\n",
              "\n",
              "  .colab-df-spinner {\n",
              "    border: 2px solid var(--fill-color);\n",
              "    border-color: transparent;\n",
              "    border-bottom-color: var(--fill-color);\n",
              "    animation:\n",
              "      spin 1s steps(1) infinite;\n",
              "  }\n",
              "\n",
              "  @keyframes spin {\n",
              "    0% {\n",
              "      border-color: transparent;\n",
              "      border-bottom-color: var(--fill-color);\n",
              "      border-left-color: var(--fill-color);\n",
              "    }\n",
              "    20% {\n",
              "      border-color: transparent;\n",
              "      border-left-color: var(--fill-color);\n",
              "      border-top-color: var(--fill-color);\n",
              "    }\n",
              "    30% {\n",
              "      border-color: transparent;\n",
              "      border-left-color: var(--fill-color);\n",
              "      border-top-color: var(--fill-color);\n",
              "      border-right-color: var(--fill-color);\n",
              "    }\n",
              "    40% {\n",
              "      border-color: transparent;\n",
              "      border-right-color: var(--fill-color);\n",
              "      border-top-color: var(--fill-color);\n",
              "    }\n",
              "    60% {\n",
              "      border-color: transparent;\n",
              "      border-right-color: var(--fill-color);\n",
              "    }\n",
              "    80% {\n",
              "      border-color: transparent;\n",
              "      border-right-color: var(--fill-color);\n",
              "      border-bottom-color: var(--fill-color);\n",
              "    }\n",
              "    90% {\n",
              "      border-color: transparent;\n",
              "      border-bottom-color: var(--fill-color);\n",
              "    }\n",
              "  }\n",
              "</style>\n",
              "\n",
              "  <script>\n",
              "    async function quickchart(key) {\n",
              "      const quickchartButtonEl =\n",
              "        document.querySelector('#' + key + ' button');\n",
              "      quickchartButtonEl.disabled = true;  // To prevent multiple clicks.\n",
              "      quickchartButtonEl.classList.add('colab-df-spinner');\n",
              "      try {\n",
              "        const charts = await google.colab.kernel.invokeFunction(\n",
              "            'suggestCharts', [key], {});\n",
              "      } catch (error) {\n",
              "        console.error('Error during call to suggestCharts:', error);\n",
              "      }\n",
              "      quickchartButtonEl.classList.remove('colab-df-spinner');\n",
              "      quickchartButtonEl.classList.add('colab-df-quickchart-complete');\n",
              "    }\n",
              "    (() => {\n",
              "      let quickchartButtonEl =\n",
              "        document.querySelector('#df-a0958be6-fb48-4bb2-b345-a5e8a48bc6e6 button');\n",
              "      quickchartButtonEl.style.display =\n",
              "        google.colab.kernel.accessAllowed ? 'block' : 'none';\n",
              "    })();\n",
              "  </script>\n",
              "</div>\n",
              "\n",
              "    </div>\n",
              "  </div>\n"
            ],
            "application/vnd.google.colaboratory.intrinsic+json": {
              "type": "dataframe",
              "variable_name": "aapl_data",
              "summary": "{\n  \"name\": \"aapl_data\",\n  \"rows\": 1006,\n  \"fields\": [\n    {\n      \"column\": \"Date\",\n      \"properties\": {\n        \"dtype\": \"date\",\n        \"min\": \"2020-01-02 00:00:00\",\n        \"max\": \"2023-12-29 00:00:00\",\n        \"num_unique_values\": 1006,\n        \"samples\": [\n          \"2023-09-08 00:00:00\",\n          \"2022-07-05 00:00:00\",\n          \"2022-09-16 00:00:00\"\n        ],\n        \"semantic_type\": \"\",\n        \"description\": \"\"\n      }\n    },\n    {\n      \"column\": \"Open\",\n      \"properties\": {\n        \"dtype\": \"number\",\n        \"std\": 33.31001776940112,\n        \"min\": 57.02000045776367,\n        \"max\": 198.02000427246094,\n        \"num_unique_values\": 956,\n        \"samples\": [\n          127.81999969482422,\n          179.47999572753906,\n          170.97000122070312\n        ],\n        \"semantic_type\": \"\",\n        \"description\": \"\"\n      }\n    },\n    {\n      \"column\": \"High\",\n      \"properties\": {\n        \"dtype\": \"number\",\n        \"std\": 33.43057053182057,\n        \"min\": 57.125,\n        \"max\": 199.6199951171875,\n        \"num_unique_values\": 956,\n        \"samples\": [\n          128.32000732421875,\n          179.69000244140625,\n          172.9499969482422\n        ],\n        \"semantic_type\": \"\",\n        \"description\": \"\"\n      }\n    },\n    {\n      \"column\": \"Low\",\n      \"properties\": {\n        \"dtype\": \"number\",\n        \"std\": 33.17919879094591,\n        \"min\": 53.15250015258789,\n        \"max\": 197.0,\n        \"num_unique_values\": 963,\n        \"samples\": [\n          162.42999267578125,\n          125.94000244140625,\n          126.20999908447266\n        ],\n        \"semantic_type\": \"\",\n        \"description\": \"\"\n      }\n    },\n    {\n      \"column\": \"Close\",\n      \"properties\": {\n        \"dtype\": \"number\",\n        \"std\": 33.31385702299744,\n        \"min\": 56.092498779296875,\n        \"max\": 198.11000061035156,\n        \"num_unique_values\": 956,\n        \"samples\": [\n          124.8499984741211,\n          178.19000244140625,\n          168.8800048828125\n        ],\n        \"semantic_type\": \"\",\n        \"description\": \"\"\n      }\n    },\n    {\n      \"column\": \"Adj Close\",\n      \"properties\": {\n        \"dtype\": \"number\",\n        \"std\": 33.66141413818831,\n        \"min\": 54.70698928833008,\n        \"max\": 197.85752868652344,\n        \"num_unique_values\": 994,\n        \"samples\": [\n          173.75906372070312,\n          174.2882843017578,\n          165.7656707763672\n        ],\n        \"semantic_type\": \"\",\n        \"description\": \"\"\n      }\n    },\n    {\n      \"column\": \"Volume\",\n      \"properties\": {\n        \"dtype\": \"number\",\n        \"std\": 54396526,\n        \"min\": 24048300,\n        \"max\": 426510000,\n        \"num_unique_values\": 1004,\n        \"samples\": [\n          58953100,\n          74064300,\n          81474200\n        ],\n        \"semantic_type\": \"\",\n        \"description\": \"\"\n      }\n    }\n  ]\n}"
            }
          },
          "metadata": {},
          "execution_count": 2
        }
      ]
    },
    {
      "cell_type": "markdown",
      "source": [
        "## The Importance of Data Preprocessing and Feature Selection\n",
        "Once the data is fetched, preprocessing and feature selection become crucial. Preprocessing involves cleaning the data and making it suitable for the model. This includes handling missing values, normalizing or scaling data, and potentially creating additional features, like moving averages or percentage changes, that could help the model learn more effectively.\n",
        "\n",
        "Feature selection is about choosing the right set of features that contribute most to the prediction variable. For stock price prediction, features like opening price, closing price, high, low, and volume are commonly used. It’s important to select features that provide relevant information to prevent the model from learning from noise.\n",
        "\n",
        "In the next sections, we will preprocess this data and build our LSTM model with an attention layer to start making predictions."
      ],
      "metadata": {
        "id": "VV_8YGTrbIJT"
      }
    },
    {
      "cell_type": "markdown",
      "source": [
        "## Section 3: Data Preprocessing and Preparation\n",
        "Before building our LSTM model, the first crucial step is preparing our dataset. This section covers the essential stages of data preprocessing to make the AAPL stock data from yfinance ready for our LSTM model."
      ],
      "metadata": {
        "id": "ik7XqchPbMu1"
      }
    },
    {
      "cell_type": "markdown",
      "source": [
        "## Data Cleaning\n",
        "Stock market datasets often contain anomalies or missing values. It’s vital to handle these to prevent inaccuracies in predictions.\n",
        "\n",
        "Identifying Missing Values: Check for any missing data in the dataset. If there are any, you can choose to either fill them using a method like forward-fill or backward-fill or remove those rows entirely."
      ],
      "metadata": {
        "id": "VuiAPdj9bR1n"
      }
    },
    {
      "cell_type": "code",
      "source": [
        "# Checking for missing values\n",
        "aapl_data.isnull().sum()\n",
        "\n",
        "# Filling missing values, if any\n",
        "aapl_data.fillna(method='ffill', inplace=True)"
      ],
      "metadata": {
        "id": "XUNVcq5KbYDo"
      },
      "execution_count": 3,
      "outputs": []
    },
    {
      "cell_type": "markdown",
      "source": [
        "Handling Anomalies: Sometimes, datasets contain erroneous values due to glitches in data collection. If you spot any anomalies (like extreme spikes in stock prices that are unrealistic), they should be corrected or removed."
      ],
      "metadata": {
        "id": "UxVilKktbZ-8"
      }
    },
    {
      "cell_type": "markdown",
      "source": [
        "## Feature Selection\n",
        "In stock market data, various features can be influential. Typically, ‘Open’, ‘High’, ‘Low’, ‘Close’, and ‘Volume’ are used.\n",
        "\n",
        "Deciding Features: For our model, we’ll use ‘Close’ prices, but you can experiment with additional features like ‘Open’, ‘High’, ‘Low’, and ‘Volume’."
      ],
      "metadata": {
        "id": "-cwO9v-HbZ_8"
      }
    },
    {
      "cell_type": "markdown",
      "source": [
        "## Normalization\n",
        "Normalization is a technique used to change the values of numeric columns in the dataset to a common scale, without distorting differences in the ranges of values.\n",
        "\n",
        "Applying Min-Max Scaling: This scales the dataset so that all the input features lie between 0 and 1."
      ],
      "metadata": {
        "id": "hAiIWWnqbkdK"
      }
    },
    {
      "cell_type": "code",
      "source": [
        "from sklearn.preprocessing import MinMaxScaler\n",
        "\n",
        "scaler = MinMaxScaler(feature_range=(0,1))\n",
        "aapl_data_scaled = scaler.fit_transform(aapl_data['Close'].values.reshape(-1,1))\n"
      ],
      "metadata": {
        "id": "4eoukEZZbo9K"
      },
      "execution_count": 4,
      "outputs": []
    },
    {
      "cell_type": "markdown",
      "source": [
        "## Creating Sequences\n",
        "LSTM models require input to be in a sequence format. We transform the data into sequences for the model to learn from.\n",
        "\n",
        "Defining Sequence Length: Choose a sequence length (like 60 days). This means, for every sample, the model will look at the last 60 days of data to make a prediction."
      ],
      "metadata": {
        "id": "x6qUt81MbuNj"
      }
    },
    {
      "cell_type": "code",
      "source": [
        "X = []\n",
        "y = []\n",
        "\n",
        "for i in range(60, len(aapl_data_scaled)):\n",
        "    X.append(aapl_data_scaled[i-60:i, 0])\n",
        "    y.append(aapl_data_scaled[i, 0])"
      ],
      "metadata": {
        "id": "k1ly5Dyibzu6"
      },
      "execution_count": 5,
      "outputs": []
    },
    {
      "cell_type": "markdown",
      "source": [
        "### Train-Test Split\n",
        "Split the data into training and testing sets to evaluate the model’s performance properly.\n",
        "\n",
        "Defining Split Ratio: Typically, 80% of data is used for training and 20% for testing."
      ],
      "metadata": {
        "id": "HiU0hV5vb4hO"
      }
    },
    {
      "cell_type": "code",
      "source": [
        "train_size = int(len(X) * 0.8)\n",
        "test_size = len(X) - train_size\n",
        "\n",
        "X_train, X_test = X[:train_size], X[train_size:]\n",
        "y_train, y_test = y[:train_size], y[train_size:]"
      ],
      "metadata": {
        "id": "3oB7gmbgb9UB"
      },
      "execution_count": 6,
      "outputs": []
    },
    {
      "cell_type": "markdown",
      "source": [
        "## Reshaping Data for LSTM\n",
        "Finally, we need to reshape our data into a 3D format [samples, time steps, features] required by LSTM layers.\n",
        "\n",
        "Reshaping the Data:"
      ],
      "metadata": {
        "id": "by2mfw4ocAjS"
      }
    },
    {
      "cell_type": "code",
      "source": [
        "X_train, y_train = np.array(X_train), np.array(y_train)\n",
        "X_train = np.reshape(X_train, (X_train.shape[0], X_train.shape[1], 1))"
      ],
      "metadata": {
        "id": "5yo0xDS6cFmg"
      },
      "execution_count": 7,
      "outputs": []
    },
    {
      "cell_type": "markdown",
      "source": [
        "## Section 4: Building the LSTM with Attention Model\n",
        "In this section, we’ll dive into the construction of our LSTM model with an added attention mechanism, tailored for predicting AAPL stock patterns. This requires TensorFlow and Keras, which should already be set up in your Colab environment."
      ],
      "metadata": {
        "id": "WQV3tC5NcMpy"
      }
    },
    {
      "cell_type": "markdown",
      "source": [
        "## Creating LSTM Layers\n",
        "Our LSTM model will consist of several layers, including LSTM layers for processing the time-series data. The basic structure is as follows:"
      ],
      "metadata": {
        "id": "cYJJvlYAcWBs"
      }
    },
    {
      "cell_type": "code",
      "source": [
        "from keras.models import Sequential\n",
        "from keras.layers import LSTM, Dense, Dropout, AdditiveAttention, Permute, Reshape, Multiply\n",
        "\n",
        "model = Sequential()\n",
        "\n",
        "# Adding LSTM layers with return_sequences=True\n",
        "model.add(LSTM(units=50, return_sequences=True, input_shape=(X_train.shape[1], 1)))\n",
        "model.add(LSTM(units=50, return_sequences=True))"
      ],
      "metadata": {
        "id": "fiUTHnXicQW4"
      },
      "execution_count": 8,
      "outputs": []
    },
    {
      "cell_type": "markdown",
      "source": [
        "In this model, units represent the number of neurons in each LSTM layer. return_sequences=True is crucial in the first layers to ensure the output includes sequences, which are essential for stacking LSTM layers. The final LSTM layer does not return sequences as we prepare the data for the attention layer.\n",
        "\n",
        "## Integrating the Attention Mechanism\n",
        "The attention mechanism can be added to enhance the model’s ability to focus on relevant time steps:"
      ],
      "metadata": {
        "id": "6oOkjtlLcemA"
      }
    },
    {
      "cell_type": "code",
      "source": [
        "# Adding self-attention mechanism\n",
        "# The attention mechanism\n",
        "attention = AdditiveAttention(name='attention_weight')\n",
        "# Permute and reshape for compatibility\n",
        "model.add(Permute((2, 1)))\n",
        "model.add(Reshape((-1, X_train.shape[1])))\n",
        "attention_result = attention([model.output, model.output])\n",
        "multiply_layer = Multiply()([model.output, attention_result])\n",
        "# Return to original shape\n",
        "model.add(Permute((2, 1)))\n",
        "model.add(Reshape((-1, 50)))\n",
        "\n",
        "# Adding a Flatten layer before the final Dense layer\n",
        "model.add(tf.keras.layers.Flatten())\n",
        "\n",
        "# Final Dense layer\n",
        "model.add(Dense(1))\n",
        "\n",
        "# Compile the model\n",
        "# model.compile(optimizer='adam', loss='mean_squared_error')\n",
        "\n",
        "# Train the model\n",
        "# history = model.fit(X_train, y_train, epochs=100, batch_size=25, validation_split=0.2)"
      ],
      "metadata": {
        "id": "VaLYMJc0cgc3"
      },
      "execution_count": 9,
      "outputs": []
    },
    {
      "cell_type": "markdown",
      "source": [
        "This custom layer computes a weighted sum of the input sequence, allowing the model to pay more attention to certain time steps.\n",
        "\n",
        "## Optimizing the Model\n",
        "To enhance the model’s performance and reduce the risk of overfitting, we include Dropout and Batch Normalization."
      ],
      "metadata": {
        "id": "YtwXSLKRco_F"
      }
    },
    {
      "cell_type": "code",
      "source": [
        "from keras.layers import BatchNormalization\n",
        "\n",
        "# Adding Dropout and Batch Normalization\n",
        "model.add(Dropout(0.2))\n",
        "model.add(BatchNormalization())"
      ],
      "metadata": {
        "id": "VJ9k4WO2cqrF"
      },
      "execution_count": 10,
      "outputs": []
    },
    {
      "cell_type": "markdown",
      "source": [
        "Dropout helps in preventing overfitting by randomly setting a fraction of the input units to 0 at each update during training, and Batch Normalization stabilizes the learning process.\n",
        "\n",
        "## Model Compilation\n",
        "Finally, we compile the model with an optimizer and loss function suited for our regression task."
      ],
      "metadata": {
        "id": "2znrReuHdbnZ"
      }
    },
    {
      "cell_type": "code",
      "source": [
        "model.compile(optimizer='adam', loss='mean_squared_error')\n"
      ],
      "metadata": {
        "id": "8BlkfJdbd5K5"
      },
      "execution_count": 11,
      "outputs": []
    },
    {
      "cell_type": "markdown",
      "source": [
        "adam optimizer is generally a good choice for recurrent neural networks, and mean squared error works well as a loss function for regression tasks like ours.\n",
        "\n",
        "## Model Summary\n",
        "It’s beneficial to view the summary of the model to understand its structure and number of parameters."
      ],
      "metadata": {
        "id": "a6oy1Hs_d8Mz"
      }
    },
    {
      "cell_type": "code",
      "source": [
        "model.summary()\n"
      ],
      "metadata": {
        "colab": {
          "base_uri": "https://localhost:8080/"
        },
        "id": "jsHQeavGeBqd",
        "outputId": "52cf0765-e378-4e83-c37b-53fff339167d"
      },
      "execution_count": 12,
      "outputs": [
        {
          "output_type": "stream",
          "name": "stdout",
          "text": [
            "Model: \"sequential\"\n",
            "_________________________________________________________________\n",
            " Layer (type)                Output Shape              Param #   \n",
            "=================================================================\n",
            " lstm (LSTM)                 (None, 60, 50)            10400     \n",
            "                                                                 \n",
            " lstm_1 (LSTM)               (None, 60, 50)            20200     \n",
            "                                                                 \n",
            " permute (Permute)           (None, 50, 60)            0         \n",
            "                                                                 \n",
            " reshape (Reshape)           (None, 50, 60)            0         \n",
            "                                                                 \n",
            " permute_1 (Permute)         (None, 60, 50)            0         \n",
            "                                                                 \n",
            " reshape_1 (Reshape)         (None, 60, 50)            0         \n",
            "                                                                 \n",
            " flatten (Flatten)           (None, 3000)              0         \n",
            "                                                                 \n",
            " dense (Dense)               (None, 1)                 3001      \n",
            "                                                                 \n",
            " dropout (Dropout)           (None, 1)                 0         \n",
            "                                                                 \n",
            " batch_normalization (Batch  (None, 1)                 4         \n",
            " Normalization)                                                  \n",
            "                                                                 \n",
            "=================================================================\n",
            "Total params: 33605 (131.27 KB)\n",
            "Trainable params: 33603 (131.26 KB)\n",
            "Non-trainable params: 2 (8.00 Byte)\n",
            "_________________________________________________________________\n"
          ]
        }
      ]
    },
    {
      "cell_type": "markdown",
      "source": [
        "## Section 5: Training the Model\n",
        "Now that our LSTM model with attention is built, it’s time to train it using our prepared training set. This process involves feeding the training data to the model and letting it learn to make predictions.\n",
        "\n",
        "## Training Code\n",
        "Use the following code to train your model with X_train and y_train:"
      ],
      "metadata": {
        "id": "3lXZg1KVeIrS"
      }
    },
    {
      "cell_type": "code",
      "source": [
        "# Assuming X_train and y_train are already defined and preprocessed\n",
        "history = model.fit(X_train, y_train, epochs=100, batch_size=25, validation_split=0.2)"
      ],
      "metadata": {
        "colab": {
          "base_uri": "https://localhost:8080/"
        },
        "id": "ezIlWhhEeBr7",
        "outputId": "d60e4f98-9924-4c25-c789-5dc2c0648720"
      },
      "execution_count": 13,
      "outputs": [
        {
          "output_type": "stream",
          "name": "stdout",
          "text": [
            "Epoch 1/100\n",
            "25/25 [==============================] - 8s 93ms/step - loss: 0.4895 - val_loss: 0.3795\n",
            "Epoch 2/100\n",
            "25/25 [==============================] - 1s 55ms/step - loss: 0.2752 - val_loss: 0.3527\n",
            "Epoch 3/100\n",
            "25/25 [==============================] - 1s 55ms/step - loss: 0.2465 - val_loss: 0.3145\n",
            "Epoch 4/100\n",
            "25/25 [==============================] - 2s 68ms/step - loss: 0.2213 - val_loss: 0.3002\n",
            "Epoch 5/100\n",
            "25/25 [==============================] - 2s 89ms/step - loss: 0.2023 - val_loss: 0.2639\n",
            "Epoch 6/100\n",
            "25/25 [==============================] - 1s 54ms/step - loss: 0.1828 - val_loss: 0.2504\n",
            "Epoch 7/100\n",
            "25/25 [==============================] - 1s 54ms/step - loss: 0.1642 - val_loss: 0.2315\n",
            "Epoch 8/100\n",
            "25/25 [==============================] - 2s 78ms/step - loss: 0.1485 - val_loss: 0.2023\n",
            "Epoch 9/100\n",
            "25/25 [==============================] - 1s 54ms/step - loss: 0.1332 - val_loss: 0.1876\n",
            "Epoch 10/100\n",
            "25/25 [==============================] - 2s 61ms/step - loss: 0.1219 - val_loss: 0.1655\n",
            "Epoch 11/100\n",
            "25/25 [==============================] - 2s 73ms/step - loss: 0.1084 - val_loss: 0.1533\n",
            "Epoch 12/100\n",
            "25/25 [==============================] - 2s 73ms/step - loss: 0.0960 - val_loss: 0.1337\n",
            "Epoch 13/100\n",
            "25/25 [==============================] - 2s 81ms/step - loss: 0.0860 - val_loss: 0.1256\n",
            "Epoch 14/100\n",
            "25/25 [==============================] - 1s 55ms/step - loss: 0.0777 - val_loss: 0.1202\n",
            "Epoch 15/100\n",
            "25/25 [==============================] - 1s 54ms/step - loss: 0.0709 - val_loss: 0.0894\n",
            "Epoch 16/100\n",
            "25/25 [==============================] - 1s 56ms/step - loss: 0.0618 - val_loss: 0.0838\n",
            "Epoch 17/100\n",
            "25/25 [==============================] - 1s 54ms/step - loss: 0.0570 - val_loss: 0.0953\n",
            "Epoch 18/100\n",
            "25/25 [==============================] - 1s 56ms/step - loss: 0.0530 - val_loss: 0.0910\n",
            "Epoch 19/100\n",
            "25/25 [==============================] - 1s 55ms/step - loss: 0.0467 - val_loss: 0.0728\n",
            "Epoch 20/100\n",
            "25/25 [==============================] - 1s 54ms/step - loss: 0.0384 - val_loss: 0.0533\n",
            "Epoch 21/100\n",
            "25/25 [==============================] - 2s 95ms/step - loss: 0.0346 - val_loss: 0.0589\n",
            "Epoch 22/100\n",
            "25/25 [==============================] - 2s 62ms/step - loss: 0.0317 - val_loss: 0.0469\n",
            "Epoch 23/100\n",
            "25/25 [==============================] - 1s 54ms/step - loss: 0.0298 - val_loss: 0.0326\n",
            "Epoch 24/100\n",
            "25/25 [==============================] - 1s 54ms/step - loss: 0.0277 - val_loss: 0.0295\n",
            "Epoch 25/100\n",
            "25/25 [==============================] - 1s 56ms/step - loss: 0.0229 - val_loss: 0.0240\n",
            "Epoch 26/100\n",
            "25/25 [==============================] - 1s 55ms/step - loss: 0.0217 - val_loss: 0.0255\n",
            "Epoch 27/100\n",
            "25/25 [==============================] - 1s 54ms/step - loss: 0.0209 - val_loss: 0.0190\n",
            "Epoch 28/100\n",
            "25/25 [==============================] - 1s 56ms/step - loss: 0.0159 - val_loss: 0.0190\n",
            "Epoch 29/100\n",
            "25/25 [==============================] - 2s 71ms/step - loss: 0.0146 - val_loss: 0.0202\n",
            "Epoch 30/100\n",
            "25/25 [==============================] - 2s 84ms/step - loss: 0.0164 - val_loss: 0.0169\n",
            "Epoch 31/100\n",
            "25/25 [==============================] - 1s 54ms/step - loss: 0.0181 - val_loss: 0.0017\n",
            "Epoch 32/100\n",
            "25/25 [==============================] - 1s 57ms/step - loss: 0.0140 - val_loss: 0.0084\n",
            "Epoch 33/100\n",
            "25/25 [==============================] - 1s 54ms/step - loss: 0.0134 - val_loss: 0.0020\n",
            "Epoch 34/100\n",
            "25/25 [==============================] - 1s 56ms/step - loss: 0.0142 - val_loss: 0.0175\n",
            "Epoch 35/100\n",
            "25/25 [==============================] - 1s 56ms/step - loss: 0.0128 - val_loss: 0.0014\n",
            "Epoch 36/100\n",
            "25/25 [==============================] - 1s 54ms/step - loss: 0.0136 - val_loss: 0.0038\n",
            "Epoch 37/100\n",
            "25/25 [==============================] - 1s 55ms/step - loss: 0.0121 - val_loss: 0.0050\n",
            "Epoch 38/100\n",
            "25/25 [==============================] - 2s 88ms/step - loss: 0.0103 - val_loss: 0.0023\n",
            "Epoch 39/100\n",
            "25/25 [==============================] - 2s 66ms/step - loss: 0.0122 - val_loss: 0.0085\n",
            "Epoch 40/100\n",
            "25/25 [==============================] - 1s 54ms/step - loss: 0.0110 - val_loss: 0.0302\n",
            "Epoch 41/100\n",
            "25/25 [==============================] - 1s 55ms/step - loss: 0.0125 - val_loss: 0.0028\n",
            "Epoch 42/100\n",
            "25/25 [==============================] - 1s 55ms/step - loss: 0.0103 - val_loss: 0.0010\n",
            "Epoch 43/100\n",
            "25/25 [==============================] - 1s 55ms/step - loss: 0.0122 - val_loss: 0.0011\n",
            "Epoch 44/100\n",
            "25/25 [==============================] - 1s 54ms/step - loss: 0.0107 - val_loss: 0.0032\n",
            "Epoch 45/100\n",
            "25/25 [==============================] - 1s 54ms/step - loss: 0.0107 - val_loss: 0.0014\n",
            "Epoch 46/100\n",
            "25/25 [==============================] - 2s 67ms/step - loss: 0.0101 - val_loss: 0.0029\n",
            "Epoch 47/100\n",
            "25/25 [==============================] - 2s 87ms/step - loss: 0.0092 - val_loss: 0.0021\n",
            "Epoch 48/100\n",
            "25/25 [==============================] - 1s 54ms/step - loss: 0.0097 - val_loss: 0.0010\n",
            "Epoch 49/100\n",
            "25/25 [==============================] - 1s 56ms/step - loss: 0.0096 - val_loss: 0.0010\n",
            "Epoch 50/100\n",
            "25/25 [==============================] - 1s 55ms/step - loss: 0.0097 - val_loss: 0.0011\n",
            "Epoch 51/100\n",
            "25/25 [==============================] - 1s 55ms/step - loss: 0.0096 - val_loss: 0.0041\n",
            "Epoch 52/100\n",
            "25/25 [==============================] - 1s 55ms/step - loss: 0.0105 - val_loss: 0.0025\n",
            "Epoch 53/100\n",
            "25/25 [==============================] - 1s 54ms/step - loss: 0.0107 - val_loss: 9.5253e-04\n",
            "Epoch 54/100\n",
            "25/25 [==============================] - 1s 54ms/step - loss: 0.0100 - val_loss: 0.0049\n",
            "Epoch 55/100\n",
            "25/25 [==============================] - 2s 82ms/step - loss: 0.0091 - val_loss: 0.0021\n",
            "Epoch 56/100\n",
            "25/25 [==============================] - 2s 73ms/step - loss: 0.0094 - val_loss: 0.0067\n",
            "Epoch 57/100\n",
            "25/25 [==============================] - 1s 55ms/step - loss: 0.0108 - val_loss: 0.0031\n",
            "Epoch 58/100\n",
            "25/25 [==============================] - 1s 55ms/step - loss: 0.0102 - val_loss: 0.0014\n",
            "Epoch 59/100\n",
            "25/25 [==============================] - 1s 55ms/step - loss: 0.0105 - val_loss: 0.0103\n",
            "Epoch 60/100\n",
            "25/25 [==============================] - 1s 56ms/step - loss: 0.0116 - val_loss: 0.0011\n",
            "Epoch 61/100\n",
            "25/25 [==============================] - 1s 57ms/step - loss: 0.0122 - val_loss: 9.1453e-04\n",
            "Epoch 62/100\n",
            "25/25 [==============================] - 1s 56ms/step - loss: 0.0097 - val_loss: 0.0038\n",
            "Epoch 63/100\n",
            "25/25 [==============================] - 2s 66ms/step - loss: 0.0088 - val_loss: 0.0013\n",
            "Epoch 64/100\n",
            "25/25 [==============================] - 3s 104ms/step - loss: 0.0088 - val_loss: 0.0014\n",
            "Epoch 65/100\n",
            "25/25 [==============================] - 1s 56ms/step - loss: 0.0105 - val_loss: 0.0017\n",
            "Epoch 66/100\n",
            "25/25 [==============================] - 1s 57ms/step - loss: 0.0085 - val_loss: 0.0067\n",
            "Epoch 67/100\n",
            "25/25 [==============================] - 1s 56ms/step - loss: 0.0096 - val_loss: 9.3808e-04\n",
            "Epoch 68/100\n",
            "25/25 [==============================] - 1s 57ms/step - loss: 0.0104 - val_loss: 9.1684e-04\n",
            "Epoch 69/100\n",
            "25/25 [==============================] - 1s 57ms/step - loss: 0.0105 - val_loss: 0.0139\n",
            "Epoch 70/100\n",
            "25/25 [==============================] - 1s 56ms/step - loss: 0.0115 - val_loss: 0.0012\n",
            "Epoch 71/100\n",
            "25/25 [==============================] - 1s 59ms/step - loss: 0.0123 - val_loss: 0.0030\n",
            "Epoch 72/100\n",
            "25/25 [==============================] - 2s 95ms/step - loss: 0.0100 - val_loss: 0.0062\n",
            "Epoch 73/100\n",
            "25/25 [==============================] - 1s 58ms/step - loss: 0.0105 - val_loss: 0.0019\n",
            "Epoch 74/100\n",
            "25/25 [==============================] - 1s 57ms/step - loss: 0.0109 - val_loss: 0.0022\n",
            "Epoch 75/100\n",
            "25/25 [==============================] - 2s 80ms/step - loss: 0.0094 - val_loss: 0.0265\n",
            "Epoch 76/100\n",
            "25/25 [==============================] - 1s 56ms/step - loss: 0.0111 - val_loss: 0.0011\n",
            "Epoch 77/100\n",
            "25/25 [==============================] - 1s 54ms/step - loss: 0.0118 - val_loss: 0.0029\n",
            "Epoch 78/100\n",
            "25/25 [==============================] - 1s 55ms/step - loss: 0.0101 - val_loss: 0.0037\n",
            "Epoch 79/100\n",
            "25/25 [==============================] - 2s 61ms/step - loss: 0.0084 - val_loss: 0.0012\n",
            "Epoch 80/100\n",
            "25/25 [==============================] - 2s 97ms/step - loss: 0.0097 - val_loss: 8.9010e-04\n",
            "Epoch 81/100\n",
            "25/25 [==============================] - 1s 55ms/step - loss: 0.0105 - val_loss: 0.1475\n",
            "Epoch 82/100\n",
            "25/25 [==============================] - 1s 55ms/step - loss: 0.0139 - val_loss: 0.0016\n",
            "Epoch 83/100\n",
            "25/25 [==============================] - 1s 56ms/step - loss: 0.0089 - val_loss: 0.0043\n",
            "Epoch 84/100\n",
            "25/25 [==============================] - 1s 54ms/step - loss: 0.0088 - val_loss: 0.0078\n",
            "Epoch 85/100\n",
            "25/25 [==============================] - 1s 55ms/step - loss: 0.0114 - val_loss: 0.0191\n",
            "Epoch 86/100\n",
            "25/25 [==============================] - 1s 56ms/step - loss: 0.0111 - val_loss: 0.0026\n",
            "Epoch 87/100\n",
            "25/25 [==============================] - 1s 56ms/step - loss: 0.0101 - val_loss: 0.0020\n",
            "Epoch 88/100\n",
            "25/25 [==============================] - 2s 84ms/step - loss: 0.0091 - val_loss: 8.5765e-04\n",
            "Epoch 89/100\n",
            "25/25 [==============================] - 2s 73ms/step - loss: 0.0084 - val_loss: 8.3064e-04\n",
            "Epoch 90/100\n",
            "25/25 [==============================] - 1s 54ms/step - loss: 0.0116 - val_loss: 0.0041\n",
            "Epoch 91/100\n",
            "25/25 [==============================] - 1s 55ms/step - loss: 0.0113 - val_loss: 0.0101\n",
            "Epoch 92/100\n",
            "25/25 [==============================] - 1s 55ms/step - loss: 0.0136 - val_loss: 0.0036\n",
            "Epoch 93/100\n",
            "25/25 [==============================] - 1s 55ms/step - loss: 0.0102 - val_loss: 0.0022\n",
            "Epoch 94/100\n",
            "25/25 [==============================] - 1s 55ms/step - loss: 0.0103 - val_loss: 0.0011\n",
            "Epoch 95/100\n",
            "25/25 [==============================] - 1s 55ms/step - loss: 0.0113 - val_loss: 9.4767e-04\n",
            "Epoch 96/100\n",
            "25/25 [==============================] - 2s 66ms/step - loss: 0.0090 - val_loss: 9.7403e-04\n",
            "Epoch 97/100\n",
            "25/25 [==============================] - 2s 94ms/step - loss: 0.0119 - val_loss: 0.0031\n",
            "Epoch 98/100\n",
            "25/25 [==============================] - 1s 56ms/step - loss: 0.0119 - val_loss: 9.4464e-04\n",
            "Epoch 99/100\n",
            "25/25 [==============================] - 1s 55ms/step - loss: 0.0098 - val_loss: 0.0013\n",
            "Epoch 100/100\n",
            "25/25 [==============================] - 1s 55ms/step - loss: 0.0100 - val_loss: 0.0014\n"
          ]
        }
      ]
    },
    {
      "cell_type": "markdown",
      "source": [
        "Here, we train the model for 100 epochs with a batch size of 25. The validation_split parameter reserves a portion of the training data for validation, allowing us to monitor the model's performance on unseen data during training.\n",
        "\n",
        "Overfitting and How to Avoid It\n",
        "Overfitting occurs when a model learns patterns specific to the training data, which do not generalize to new data. Here are ways to avoid overfitting:\n",
        "\n",
        "Validation Set: Using a validation set (as we did in the training code) helps in monitoring the model’s performance on unseen data.\n",
        "Early Stopping: This technique stops training when the model’s performance on the validation set starts to degrade. Implementing early stopping in Keras is straightforward:"
      ],
      "metadata": {
        "id": "VFK2Ue2FeOHw"
      }
    },
    {
      "cell_type": "code",
      "source": [
        "from keras.callbacks import EarlyStopping\n",
        "\n",
        "early_stopping = EarlyStopping(monitor='val_loss', patience=10)\n",
        "history = model.fit(X_train, y_train, epochs=100, batch_size=25, validation_split=0.2, callbacks=[early_stopping])"
      ],
      "metadata": {
        "colab": {
          "base_uri": "https://localhost:8080/"
        },
        "id": "dZu_PcnseTDj",
        "outputId": "28d06d60-a8bb-4234-8086-070d857668a2"
      },
      "execution_count": 14,
      "outputs": [
        {
          "output_type": "stream",
          "name": "stdout",
          "text": [
            "Epoch 1/100\n",
            "25/25 [==============================] - 1s 60ms/step - loss: 0.0080 - val_loss: 9.2798e-04\n",
            "Epoch 2/100\n",
            "25/25 [==============================] - 1s 57ms/step - loss: 0.0083 - val_loss: 8.7591e-04\n",
            "Epoch 3/100\n",
            "25/25 [==============================] - 1s 56ms/step - loss: 0.0097 - val_loss: 7.5304e-04\n",
            "Epoch 4/100\n",
            "25/25 [==============================] - 2s 71ms/step - loss: 0.0115 - val_loss: 0.0043\n",
            "Epoch 5/100\n",
            "25/25 [==============================] - 2s 87ms/step - loss: 0.0090 - val_loss: 0.0064\n",
            "Epoch 6/100\n",
            "25/25 [==============================] - 1s 54ms/step - loss: 0.0116 - val_loss: 8.6527e-04\n",
            "Epoch 7/100\n",
            "25/25 [==============================] - 1s 56ms/step - loss: 0.0108 - val_loss: 0.0067\n",
            "Epoch 8/100\n",
            "25/25 [==============================] - 1s 56ms/step - loss: 0.0102 - val_loss: 0.0049\n",
            "Epoch 9/100\n",
            "25/25 [==============================] - 2s 79ms/step - loss: 0.0096 - val_loss: 8.6575e-04\n",
            "Epoch 10/100\n",
            "25/25 [==============================] - 2s 65ms/step - loss: 0.0106 - val_loss: 0.0073\n",
            "Epoch 11/100\n",
            "25/25 [==============================] - 2s 98ms/step - loss: 0.0091 - val_loss: 0.0110\n",
            "Epoch 12/100\n",
            "25/25 [==============================] - 2s 98ms/step - loss: 0.0105 - val_loss: 0.0014\n",
            "Epoch 13/100\n",
            "25/25 [==============================] - 1s 56ms/step - loss: 0.0091 - val_loss: 0.0085\n"
          ]
        }
      ]
    },
    {
      "cell_type": "markdown",
      "source": [
        "Here, patience=10 means training will stop if the validation loss does not improve for 10 consecutive epochs.\n",
        "Regularization Techniques: Techniques like Dropout and Batch Normalization, which are already included in our model, also help in reducing overfitting.\n",
        "Optional: These are more callbacks"
      ],
      "metadata": {
        "id": "nDr2olsBe_ec"
      }
    },
    {
      "cell_type": "code",
      "source": [
        "from keras.callbacks import ModelCheckpoint, ReduceLROnPlateau, TensorBoard, CSVLogger\n",
        "\n",
        "# Callback to save the model periodically\n",
        "model_checkpoint = ModelCheckpoint('best_model.h5', save_best_only=True, monitor='val_loss')\n",
        "\n",
        "# Callback to reduce learning rate when a metric has stopped improving\n",
        "reduce_lr = ReduceLROnPlateau(monitor='val_loss', factor=0.1, patience=5)\n",
        "\n",
        "# Callback for TensorBoard\n",
        "tensorboard = TensorBoard(log_dir='./logs')\n",
        "\n",
        "# Callback to log details to a CSV file\n",
        "csv_logger = CSVLogger('training_log.csv')\n",
        "\n",
        "# Combining all callbacks\n",
        "callbacks_list = [early_stopping, model_checkpoint, reduce_lr, tensorboard, csv_logger]\n",
        "\n",
        "# Fit the model with the callbacks\n",
        "history = model.fit(X_train, y_train, epochs=100, batch_size=25, validation_split=0.2, callbacks=callbacks_list)"
      ],
      "metadata": {
        "colab": {
          "base_uri": "https://localhost:8080/"
        },
        "id": "HJXK39Z8eTGP",
        "outputId": "b165de08-3800-4bdc-a4e5-233a768c8d28"
      },
      "execution_count": 15,
      "outputs": [
        {
          "output_type": "stream",
          "name": "stdout",
          "text": [
            "Epoch 1/100\n",
            "25/25 [==============================] - 2s 70ms/step - loss: 0.0105 - val_loss: 0.0013 - lr: 0.0010\n",
            "Epoch 2/100\n",
            " 1/25 [>.............................] - ETA: 1s - loss: 0.0103"
          ]
        },
        {
          "output_type": "stream",
          "name": "stderr",
          "text": [
            "/usr/local/lib/python3.10/dist-packages/keras/src/engine/training.py:3103: UserWarning: You are saving your model as an HDF5 file via `model.save()`. This file format is considered legacy. We recommend using instead the native Keras format, e.g. `model.save('my_model.keras')`.\n",
            "  saving_api.save_model(\n"
          ]
        },
        {
          "output_type": "stream",
          "name": "stdout",
          "text": [
            "25/25 [==============================] - 2s 98ms/step - loss: 0.0093 - val_loss: 0.0042 - lr: 0.0010\n",
            "Epoch 3/100\n",
            "25/25 [==============================] - 1s 57ms/step - loss: 0.0096 - val_loss: 0.0054 - lr: 0.0010\n",
            "Epoch 4/100\n",
            "25/25 [==============================] - 1s 58ms/step - loss: 0.0110 - val_loss: 0.0076 - lr: 0.0010\n",
            "Epoch 5/100\n",
            "25/25 [==============================] - 2s 81ms/step - loss: 0.0119 - val_loss: 0.0304 - lr: 0.0010\n",
            "Epoch 6/100\n",
            "25/25 [==============================] - 1s 58ms/step - loss: 0.0108 - val_loss: 0.0027 - lr: 0.0010\n",
            "Epoch 7/100\n",
            "25/25 [==============================] - 1s 59ms/step - loss: 0.0112 - val_loss: 9.3642e-04 - lr: 1.0000e-04\n",
            "Epoch 8/100\n",
            "25/25 [==============================] - 1s 57ms/step - loss: 0.0080 - val_loss: 0.0023 - lr: 1.0000e-04\n",
            "Epoch 9/100\n",
            "25/25 [==============================] - 2s 77ms/step - loss: 0.0095 - val_loss: 8.3551e-04 - lr: 1.0000e-04\n",
            "Epoch 10/100\n",
            "25/25 [==============================] - 2s 82ms/step - loss: 0.0109 - val_loss: 0.0028 - lr: 1.0000e-04\n",
            "Epoch 11/100\n",
            "25/25 [==============================] - 1s 56ms/step - loss: 0.0099 - val_loss: 0.0012 - lr: 1.0000e-04\n",
            "Epoch 12/100\n",
            "25/25 [==============================] - 1s 59ms/step - loss: 0.0107 - val_loss: 0.0012 - lr: 1.0000e-04\n",
            "Epoch 13/100\n",
            "25/25 [==============================] - 1s 58ms/step - loss: 0.0109 - val_loss: 8.4043e-04 - lr: 1.0000e-04\n",
            "Epoch 14/100\n",
            "25/25 [==============================] - 1s 58ms/step - loss: 0.0110 - val_loss: 0.0020 - lr: 1.0000e-04\n",
            "Epoch 15/100\n",
            "25/25 [==============================] - 1s 57ms/step - loss: 0.0081 - val_loss: 0.0018 - lr: 1.0000e-05\n",
            "Epoch 16/100\n",
            "25/25 [==============================] - 1s 56ms/step - loss: 0.0096 - val_loss: 0.0012 - lr: 1.0000e-05\n",
            "Epoch 17/100\n",
            "25/25 [==============================] - 2s 68ms/step - loss: 0.0093 - val_loss: 0.0011 - lr: 1.0000e-05\n",
            "Epoch 18/100\n",
            "25/25 [==============================] - 2s 90ms/step - loss: 0.0073 - val_loss: 0.0011 - lr: 1.0000e-05\n",
            "Epoch 19/100\n",
            "25/25 [==============================] - 1s 56ms/step - loss: 0.0086 - val_loss: 0.0011 - lr: 1.0000e-05\n"
          ]
        }
      ]
    },
    {
      "cell_type": "markdown",
      "source": [
        "## Section 6: Evaluating Model Performance\n",
        "After training the model, the next step is to evaluate its performance using the test set. This will give us an understanding of how well our model can generalize to new, unseen data.\n",
        "\n",
        "## Evaluating with the Test Set\n",
        "To evaluate the model, we first need to prepare our test data (X_test) in the same way we did for the training data. Then, we can use the model's evaluate function:"
      ],
      "metadata": {
        "id": "vAfEqReIfEUy"
      }
    },
    {
      "cell_type": "code",
      "source": [
        "# Convert X_test and y_test to Numpy arrays if they are not already\n",
        "X_test = np.array(X_test)\n",
        "y_test = np.array(y_test)\n",
        "\n",
        "# Ensure X_test is reshaped similarly to how X_train was reshaped\n",
        "# This depends on how you preprocessed the training data\n",
        "X_test = np.reshape(X_test, (X_test.shape[0], X_test.shape[1], 1))\n",
        "\n",
        "# Now evaluate the model on the test data\n",
        "test_loss = model.evaluate(X_test, y_test)\n",
        "print(\"Test Loss: \", test_loss)"
      ],
      "metadata": {
        "colab": {
          "base_uri": "https://localhost:8080/"
        },
        "id": "76YUtceyfJ5k",
        "outputId": "9decc29b-5d4b-4875-8d92-1b6437fb864b"
      },
      "execution_count": 16,
      "outputs": [
        {
          "output_type": "stream",
          "name": "stdout",
          "text": [
            "6/6 [==============================] - 0s 22ms/step - loss: 0.0070\n",
            "Test Loss:  0.007018929347395897\n"
          ]
        }
      ]
    },
    {
      "cell_type": "markdown",
      "source": [
        "## Performance Metrics\n",
        "In addition to the loss, other metrics can provide more insights into the model’s performance. For regression tasks like ours, common metrics include:\n",
        "\n",
        "Mean Absolute Error (MAE): This measures the average magnitude of the errors in a set of predictions, without considering their direction.\n",
        "Root Mean Square Error (RMSE): This is the square root of the average of squared differences between prediction and actual observation.\n",
        "To calculate these metrics, we can make predictions using our model and compare them with the actual values:\n",
        "\n"
      ],
      "metadata": {
        "id": "DAyMxFc4fTBG"
      }
    },
    {
      "cell_type": "code",
      "source": [
        "from sklearn.metrics import mean_absolute_error, mean_squared_error\n",
        "\n",
        "# Making predictions\n",
        "y_pred = model.predict(X_test)\n",
        "\n",
        "# Calculating MAE and RMSE\n",
        "mae = mean_absolute_error(y_test, y_pred)\n",
        "rmse = mean_squared_error(y_test, y_pred, squared=False)\n",
        "\n",
        "print(\"Mean Absolute Error: \", mae)\n",
        "print(\"Root Mean Square Error: \", rmse)"
      ],
      "metadata": {
        "colab": {
          "base_uri": "https://localhost:8080/"
        },
        "id": "-MGh2y74fV5P",
        "outputId": "4fdfbe96-8a7e-413f-fa12-a3d1da66ea63"
      },
      "execution_count": 17,
      "outputs": [
        {
          "output_type": "stream",
          "name": "stdout",
          "text": [
            "6/6 [==============================] - 2s 27ms/step\n",
            "Mean Absolute Error:  0.08006788399194659\n",
            "Root Mean Square Error:  0.08377905206027944\n"
          ]
        }
      ]
    },
    {
      "cell_type": "markdown",
      "source": [
        "## model:\n",
        "\n",
        "Mean Absolute Error (MAE): 0.0724 (approximately)\n",
        "Root Mean Square Error (RMSE): 0.0753 (approximately)\n",
        "Both MAE and RMSE are measures of prediction accuracy for a regression model. Here’s what they indicate:\n",
        "\n",
        "MAE measures the average magnitude of the errors in a set of predictions, without considering their direction. It’s the average over the test sample of the absolute differences between prediction and actual observation where all individual differences have equal weight. A MAE of 0.0724 means that, on average, the model’s predictions are about 0.0724 units away from the actual values.\n",
        "\n",
        "RMSE is a quadratic scoring rule that also measures the average magnitude of the error. It’s the square root of the average of squared differences between prediction and actual observation. The RMSE gives a relatively high weight to large errors. This means the RMSE should be more useful when large errors are particularly undesirable. An RMSE of 0.0753 means that the model’s predictions are, on average, 0.0753 units away from the actual values when larger errors are penalized more.\n",
        "\n",
        "These metrics will help you understand the accuracy of your model and where it needs improvement. By analyzing these metrics, you can make informed decisions about further tuning your model or changing your approach.\n",
        "\n",
        "In the next section, we’ll discuss how to use the model for actual stock pattern predictions and the practical considerations in deploying this model for real-world applications."
      ],
      "metadata": {
        "id": "S83kX45Ffdew"
      }
    },
    {
      "cell_type": "markdown",
      "source": [
        "## Section 7: Predicting the Next 4 Candles\n",
        "Having trained and evaluated our LSTM model with an attention mechanism, the final step is to utilize it for predicting the next 4 candles (days) of AAPL stock prices.\n",
        "\n",
        "## Making Predictions\n",
        "To predict future stock prices, we need to provide the model with the most recent data points. Let’s assume we have the latest 60 days of data prepared in the same format as X_train: and we want to predict the price for the next day:"
      ],
      "metadata": {
        "id": "604lPMisfhj3"
      }
    },
    {
      "cell_type": "code",
      "source": [
        "import yfinance as yf\n",
        "import numpy as np\n",
        "from sklearn.preprocessing import MinMaxScaler\n",
        "\n",
        "# Fetching the latest 60 days of AAPL stock data\n",
        "data = yf.download('AAPL', period='60d', interval='1d')\n",
        "\n",
        "# Selecting the 'Close' price and converting to numpy array\n",
        "closing_prices = data['Close'].values\n",
        "\n",
        "# Scaling the data\n",
        "scaler = MinMaxScaler(feature_range=(0,1))\n",
        "scaled_data = scaler.fit_transform(closing_prices.reshape(-1,1))\n",
        "\n",
        "# Since we need the last 60 days to predict the next day, we reshape the data accordingly\n",
        "X_latest = np.array([scaled_data[-60:].reshape(60)])\n",
        "\n",
        "# Reshaping the data for the model (adding batch dimension)\n",
        "X_latest = np.reshape(X_latest, (X_latest.shape[0], X_latest.shape[1], 1))\n",
        "\n",
        "# Making predictions for the next 4 candles\n",
        "predicted_stock_price = model.predict(X_latest)\n",
        "predicted_stock_price = scaler.inverse_transform(predicted_stock_price)\n",
        "\n",
        "print(\"Predicted Stock Prices for the next 4 days: \", predicted_stock_price)"
      ],
      "metadata": {
        "colab": {
          "base_uri": "https://localhost:8080/"
        },
        "id": "DSCxvciKfgYs",
        "outputId": "7a955b63-36df-456a-db3d-918c635df9ea"
      },
      "execution_count": 18,
      "outputs": [
        {
          "output_type": "stream",
          "name": "stderr",
          "text": [
            "\r[*********************100%%**********************]  1 of 1 completed"
          ]
        },
        {
          "output_type": "stream",
          "name": "stdout",
          "text": [
            "1/1 [==============================] - 0s 27ms/step\n",
            "Predicted Stock Prices for the next 4 days:  [[177.01106]]\n"
          ]
        },
        {
          "output_type": "stream",
          "name": "stderr",
          "text": [
            "\n"
          ]
        }
      ]
    },
    {
      "cell_type": "markdown",
      "source": [
        "## Let’s predict the price for the next 4 days:"
      ],
      "metadata": {
        "id": "P7zQbYyAf5Rs"
      }
    },
    {
      "cell_type": "code",
      "source": [
        "import yfinance as yf\n",
        "import numpy as np\n",
        "from sklearn.preprocessing import MinMaxScaler\n",
        "\n",
        "# Fetch the latest 60 days of AAPL stock data\n",
        "data = yf.download('AAPL', period='60d', interval='1d')\n",
        "\n",
        "# Select 'Close' price and scale it\n",
        "closing_prices = data['Close'].values.reshape(-1, 1)\n",
        "scaler = MinMaxScaler(feature_range=(0, 1))\n",
        "scaled_data = scaler.fit_transform(closing_prices)\n",
        "\n",
        "# Predict the next 4 days iteratively\n",
        "predicted_prices = []\n",
        "current_batch = scaled_data[-60:].reshape(1, 60, 1)  # Most recent 60 days\n",
        "\n",
        "for i in range(4):  # Predicting 4 days\n",
        "    # Get the prediction (next day)\n",
        "    next_prediction = model.predict(current_batch)\n",
        "\n",
        "    # Reshape the prediction to fit the batch dimension\n",
        "    next_prediction_reshaped = next_prediction.reshape(1, 1, 1)\n",
        "\n",
        "    # Append the prediction to the batch used for predicting\n",
        "    current_batch = np.append(current_batch[:, 1:, :], next_prediction_reshaped, axis=1)\n",
        "\n",
        "    # Inverse transform the prediction to the original price scale\n",
        "    predicted_prices.append(scaler.inverse_transform(next_prediction)[0, 0])\n",
        "\n",
        "print(\"Predicted Stock Prices for the next 4 days: \", predicted_prices)"
      ],
      "metadata": {
        "colab": {
          "base_uri": "https://localhost:8080/"
        },
        "id": "PYP5FkJHf9Ff",
        "outputId": "ba677c48-5edc-4575-bc82-ae2ea0680ea6"
      },
      "execution_count": 19,
      "outputs": [
        {
          "output_type": "stream",
          "name": "stderr",
          "text": [
            "\r[*********************100%%**********************]  1 of 1 completed"
          ]
        },
        {
          "output_type": "stream",
          "name": "stdout",
          "text": [
            "1/1 [==============================] - 0s 38ms/step\n"
          ]
        },
        {
          "output_type": "stream",
          "name": "stderr",
          "text": [
            "\n"
          ]
        },
        {
          "output_type": "stream",
          "name": "stdout",
          "text": [
            "1/1 [==============================] - 0s 35ms/step\n",
            "1/1 [==============================] - 0s 33ms/step\n",
            "1/1 [==============================] - 0s 42ms/step\n",
            "Predicted Stock Prices for the next 4 days:  [177.01106, 177.80472, 178.49174, 178.87561]\n"
          ]
        }
      ]
    },
    {
      "cell_type": "markdown",
      "source": [
        "## Visualization of Predictions\n",
        "Comparing the predicted values with actual stock prices visually can be very insightful. Below is the code to plot the predicted stock prices against the actual data:\n",
        "\n"
      ],
      "metadata": {
        "id": "sH24WuDygG2D"
      }
    },
    {
      "cell_type": "code",
      "source": [
        "!pip install mplfinance -qqq\n",
        "import pandas as pd\n",
        "import mplfinance as mpf\n",
        "import matplotlib.dates as mpl_dates\n",
        "import matplotlib.pyplot as plt\n",
        "\n",
        "# Assuming 'data' is your DataFrame with the fetched AAPL stock data\n",
        "# Make sure it contains Open, High, Low, Close, and Volume columns\n",
        "\n",
        "# Creating a list of dates for the predictions\n",
        "last_date = data.index[-1]\n",
        "next_day = last_date + pd.Timedelta(days=1)\n",
        "prediction_dates = pd.date_range(start=next_day, periods=4)\n",
        "\n",
        "# Assuming 'predicted_prices' is your list of predicted prices for the next 4 days\n",
        "predictions_df = pd.DataFrame(index=prediction_dates, data=predicted_prices, columns=['Close'])\n",
        "\n",
        "# Plotting the actual data with mplfinance\n",
        "mpf.plot(data, type='candle', style='charles', volume=True)\n",
        "\n",
        "# Overlaying the predicted data\n",
        "plt.figure(figsize=(10,6))\n",
        "plt.plot(predictions_df.index, predictions_df['Close'], linestyle='dashed', marker='o', color='red')\n",
        "\n",
        "plt.title(\"AAPL Stock Price with Predicted Next 4 Days\")\n",
        "plt.show()"
      ],
      "metadata": {
        "colab": {
          "base_uri": "https://localhost:8080/",
          "height": 1000
        },
        "id": "E6R56PlYgIuo",
        "outputId": "3f42bfdd-10e6-4420-e6d2-a9da9da32f45"
      },
      "execution_count": 20,
      "outputs": [
        {
          "output_type": "stream",
          "name": "stdout",
          "text": [
            "\u001b[?25l     \u001b[90m━━━━━━━━━━━━━━━━━━━━━━━━━━━━━━━━━━━━━━━━\u001b[0m \u001b[32m0.0/75.0 kB\u001b[0m \u001b[31m?\u001b[0m eta \u001b[36m-:--:--\u001b[0m\r\u001b[2K     \u001b[90m━━━━━━━━━━━━━━━━━━━━━━━━━━━━━━━━━━━━━━━━\u001b[0m \u001b[32m75.0/75.0 kB\u001b[0m \u001b[31m2.0 MB/s\u001b[0m eta \u001b[36m0:00:00\u001b[0m\n",
            "\u001b[?25h"
          ]
        },
        {
          "output_type": "display_data",
          "data": {
            "text/plain": [
              "<Figure size 800x575 with 4 Axes>"
            ],
            "image/png": "[encoded data removed]"
          },
          "metadata": {}
        },
        {
          "output_type": "display_data",
          "data": {
            "text/plain": [
              "<Figure size 1000x600 with 1 Axes>"
            ],
            "image/png": "[encoded data removed]"
          },
          "metadata": {}
        }
      ]
    },
    {
      "cell_type": "markdown",
      "source": [
        "## Final Visual for Predictions:\n"
      ],
      "metadata": {
        "id": "mYLtdl5WgXzj"
      }
    },
    {
      "cell_type": "code",
      "source": [
        "# Final Visual for Predictions:\n",
        "import pandas as pd\n",
        "import mplfinance as mpf\n",
        "import matplotlib.dates as mpl_dates\n",
        "import matplotlib.pyplot as plt\n",
        "\n",
        "# Fetch the latest 60 days of AAPL stock data\n",
        "data = yf.download('AAPL', period='64d', interval='1d') # Fetch 64 days to display last 60 days in the chart\n",
        "\n",
        "# Select 'Close' price and scale it\n",
        "closing_prices = data['Close'].values.reshape(-1, 1)\n",
        "scaler = MinMaxScaler(feature_range=(0, 1))\n",
        "scaled_data = scaler.fit_transform(closing_prices)\n",
        "\n",
        "# Predict the next 4 days iteratively\n",
        "predicted_prices = []\n",
        "current_batch = scaled_data[-60:].reshape(1, 60, 1)  # Most recent 60 days\n",
        "\n",
        "for i in range(4):  # Predicting 4 days\n",
        "    next_prediction = model.predict(current_batch)\n",
        "    next_prediction_reshaped = next_prediction.reshape(1, 1, 1)\n",
        "    current_batch = np.append(current_batch[:, 1:, :], next_prediction_reshaped, axis=1)\n",
        "    predicted_prices.append(scaler.inverse_transform(next_prediction)[0, 0])\n",
        "\n",
        "# Creating a list of dates for the predictions\n",
        "last_date = data.index[-1]\n",
        "next_day = last_date + pd.Timedelta(days=1)\n",
        "prediction_dates = pd.date_range(start=next_day, periods=4)\n",
        "\n",
        "# Adding predictions to the DataFrame\n",
        "predicted_data = pd.DataFrame(index=prediction_dates, data=predicted_prices, columns=['Close'])\n",
        "\n",
        "# Combining both actual and predicted data\n",
        "combined_data = pd.concat([data['Close'], predicted_data['Close']])\n",
        "combined_data = combined_data[-64:] # Last 60 days of actual data + 4 days of predictions\n",
        "\n",
        "# Plotting the actual data\n",
        "plt.figure(figsize=(10,6))\n",
        "plt.plot(data.index[-60:], data['Close'][-60:], linestyle='-', marker='o', color='blue', label='Actual Data')\n",
        "\n",
        "# Plotting the predicted data\n",
        "plt.plot(prediction_dates, predicted_prices, linestyle='-', marker='o', color='red', label='Predicted Data')\n",
        "\n",
        "plt.title(\"AAPL Stock Price: Last 60 Days and Next 4 Days Predicted\")\n",
        "plt.xlabel('Date')\n",
        "plt.ylabel('Price')\n",
        "plt.legend()\n",
        "plt.show()\n"
      ],
      "metadata": {
        "colab": {
          "base_uri": "https://localhost:8080/",
          "height": 655
        },
        "id": "zpbSbsOMgbLH",
        "outputId": "9dc52436-3e7a-43fc-80af-a35a699c275b"
      },
      "execution_count": 22,
      "outputs": [
        {
          "output_type": "stream",
          "name": "stderr",
          "text": [
            "\r[*********************100%%**********************]  1 of 1 completed"
          ]
        },
        {
          "output_type": "stream",
          "name": "stdout",
          "text": [
            "1/1 [==============================] - 0s 34ms/step\n",
            "1/1 [==============================] - 0s 27ms/step\n"
          ]
        },
        {
          "output_type": "stream",
          "name": "stderr",
          "text": [
            "\n"
          ]
        },
        {
          "output_type": "stream",
          "name": "stdout",
          "text": [
            "1/1 [==============================] - 0s 26ms/step\n",
            "1/1 [==============================] - 0s 27ms/step\n"
          ]
        },
        {
          "output_type": "display_data",
          "data": {
            "text/plain": [
              "<Figure size 1000x600 with 1 Axes>"
            ],
            "image/png": "[encoded data removed]"
          },
          "metadata": {}
        }
      ]
    },
    {
      "cell_type": "markdown",
      "source": [
        "## Conclusion\n",
        "In this guide, we explored the complex yet fascinating task of using LSTM networks with an attention mechanism for stock price prediction, specifically for Apple Inc. (AAPL). Key points include:\n",
        "\n",
        "LSTM’s ability to capture long-term dependencies in time-series data.\n",
        "The added advantage of the attention mechanism in focusing on relevant data points.\n",
        "The detailed process of building, training, and evaluating the LSTM model.\n",
        "While LSTM models with attention are powerful, they have limitations:\n",
        "\n",
        "The assumption that historical patterns will repeat in similar ways can be problematic, especially in volatile markets.\n",
        "External factors like market news and global events, not captured in historical price data, can significantly influence stock prices."
      ],
      "metadata": {
        "id": "L4KpBUKGgqD6"
      }
    },
    {
      "cell_type": "code",
      "source": [],
      "metadata": {
        "id": "t_196bQ3gnQc"
      },
      "execution_count": null,
      "outputs": []
    },
    {
      "cell_type": "code",
      "source": [],
      "metadata": {
        "id": "YxeMCVFxgnSA"
      },
      "execution_count": null,
      "outputs": []
    }
  ]
}