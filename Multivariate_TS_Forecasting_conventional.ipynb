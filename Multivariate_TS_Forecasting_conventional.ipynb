{
  "nbformat": 4,
  "nbformat_minor": 0,
  "metadata": {
    "colab": {
      "provenance": [],
      "authorship_tag": "ABX9TyOhyiyirAI5NoYqnRQV2FJt",
      "include_colab_link": true
    },
    "kernelspec": {
      "name": "python3",
      "display_name": "Python 3"
    },
    "language_info": {
      "name": "python"
    }
  },
  "cells": [
    {
      "cell_type": "markdown",
      "metadata": {
        "id": "view-in-github",
        "colab_type": "text"
      },
      "source": [
        "<a href=\"https://colab.research.google.com/github/likeshd/time_series_models_libraries/blob/main/Multivariate_TS_Forecasting_conventional.ipynb\" target=\"_parent\"><img src=\"https://colab.research.google.com/assets/colab-badge.svg\" alt=\"Open In Colab\"/></a>"
      ]
    },
    {
      "cell_type": "markdown",
      "source": [
        "## Multi-step Time Series Forecasting with Machine Learning\n",
        "Machine learning algorithms predict a single value and cannot be used directly for multi-step forecasting. We can use recursive method to predict multiple point at a time\n",
        "\n",
        "As we are aware the dataset consists of electricity consumption of individual household from 2006 to 2010\n",
        "\n",
        "It is a multivariate series comprised of nine variables; they are:\n",
        "\n",
        "date and time: From 2006 to 2010\n",
        "\n",
        "global_active_power: The total active power consumed by the household (kilowatts). This is what we want to predict\n",
        "\n",
        "global_reactive_power: The total reactive power consumed by the household (kilowatts).\n",
        "\n",
        "In general terms, the active energy is the real power consumed by the household, whereas the reactive energy is the unused power in the lines.\n",
        "\n",
        "voltage: Average voltage (volts).\n",
        "\n",
        "global_intensity: Average current intensity (amps).\n",
        "\n",
        "sub_metering_1: Active energy for kitchen (watt-hours of active energy).\n",
        "\n",
        "sub_metering_2: Active energy for laundry (watt-hours of active energy).\n",
        "\n",
        "sub_metering_3: Active energy for climate control systems (watt-hours of active energy).\n",
        "\n",
        "We can see that the dataset provides the active power as well as some division of the active power by main circuit in the house, specifically the kitchen, laundry, and climate control. These are not all the circuits in the household.\n",
        "\n",
        "The remaining watt-hours can be calculated from the active energy by first converting the active energy to watt-hours then subtracting the other sub-metered active energy in watt-hours, as follows\n",
        "\n",
        "sub_metering_4 = (global_active_power * 1000 / 60) - (sub_metering_1 + sub_metering_2 + sub_metering_3)"
      ],
      "metadata": {
        "id": "ZukY0XCfxPbO"
      }
    },
    {
      "cell_type": "code",
      "source": [
        "# recursive multi-step forecast with linear algorithms\n",
        "from math import sqrt\n",
        "from numpy import split\n",
        "from numpy import array\n",
        "from pandas import read_csv\n",
        "from sklearn.metrics import mean_squared_error\n",
        "from matplotlib import pyplot\n",
        "from sklearn.preprocessing import StandardScaler\n",
        "from sklearn.preprocessing import MinMaxScaler\n",
        "from sklearn.pipeline import Pipeline\n",
        "from sklearn.linear_model import LinearRegression\n",
        "from sklearn.linear_model import Lasso\n",
        "from sklearn.linear_model import Ridge\n",
        "from sklearn.linear_model import ElasticNet\n",
        "from sklearn.linear_model import HuberRegressor\n",
        "from sklearn.linear_model import Lars\n",
        "from sklearn.linear_model import LassoLars\n",
        "from sklearn.linear_model import PassiveAggressiveRegressor\n",
        "from sklearn.linear_model import RANSACRegressor\n",
        "from sklearn.linear_model import SGDRegressor"
      ],
      "metadata": {
        "id": "eZP5cMZ0xP9m"
      },
      "execution_count": 3,
      "outputs": []
    },
    {
      "cell_type": "markdown",
      "source": [
        "Lets Prepare the data\n",
        "Let's load the data and handle the missing values"
      ],
      "metadata": {
        "id": "VNZwxGfXxeLl"
      }
    },
    {
      "cell_type": "code",
      "source": [
        "# load and clean-up data\n",
        "from numpy import nan\n",
        "from numpy import isnan\n",
        "import pandas as pd\n",
        "from pandas import read_csv\n",
        "from pandas import to_numeric"
      ],
      "metadata": {
        "id": "9DUNN4UvxfUi"
      },
      "execution_count": 2,
      "outputs": []
    },
    {
      "cell_type": "code",
      "source": [
        "# load all data\n",
        "dataset = pd.read_csv(\"/content/household_power_consumption_days.csv\", parse_dates= True, index_col= [\"datetime\"])\n",
        "dataset.sort_index(inplace=True)\n",
        "\n",
        "# sep=';', header=0, low_memory=False, infer_datetime_format=True, parse_dates={'datetime':[0,1]}, index_col=['datetime'])\n",
        "dataset.info()\n",
        "# mark all missing values\n",
        "# dataset.replace('?', nan, inplace=True)\n",
        "# make dataset numeric\n",
        "# dataset = dataset.astype('float32')\n",
        "dataset.head(5)"
      ],
      "metadata": {
        "colab": {
          "base_uri": "https://localhost:8080/",
          "height": 605
        },
        "id": "lQMNfI49xz1x",
        "outputId": "28bee76c-434d-44ed-d12c-4b6606d3b411"
      },
      "execution_count": 12,
      "outputs": [
        {
          "output_type": "stream",
          "name": "stdout",
          "text": [
            "<class 'pandas.core.frame.DataFrame'>\n",
            "DatetimeIndex: 1442 entries, 2006-12-16 to 2010-11-26\n",
            "Data columns (total 8 columns):\n",
            " #   Column                 Non-Null Count  Dtype  \n",
            "---  ------                 --------------  -----  \n",
            " 0   Global_active_power    1442 non-null   float64\n",
            " 1   Global_reactive_power  1442 non-null   float64\n",
            " 2   Voltage                1442 non-null   float64\n",
            " 3   Global_intensity       1442 non-null   float64\n",
            " 4   Sub_metering_1         1442 non-null   float64\n",
            " 5   Sub_metering_2         1442 non-null   float64\n",
            " 6   Sub_metering_3         1442 non-null   float64\n",
            " 7   sub_metering_4         1442 non-null   float64\n",
            "dtypes: float64(8)\n",
            "memory usage: 101.4 KB\n"
          ]
        },
        {
          "output_type": "execute_result",
          "data": {
            "text/plain": [
              "            Global_active_power  Global_reactive_power    Voltage  \\\n",
              "datetime                                                            \n",
              "2006-12-16             1209.176                 34.922   93552.53   \n",
              "2006-12-17             3390.460                226.006  345725.32   \n",
              "2006-12-18             2203.826                161.792  347373.64   \n",
              "2006-12-19             1666.194                150.942  348479.01   \n",
              "2006-12-20             2225.748                160.998  348923.61   \n",
              "\n",
              "            Global_intensity  Sub_metering_1  Sub_metering_2  Sub_metering_3  \\\n",
              "datetime                                                                       \n",
              "2006-12-16            5180.8             0.0           546.0          4926.0   \n",
              "2006-12-17           14398.6          2033.0          4187.0         13341.0   \n",
              "2006-12-18            9247.2          1063.0          2621.0         14018.0   \n",
              "2006-12-19            7094.0           839.0          7602.0          6197.0   \n",
              "2006-12-20            9313.0             0.0          2648.0         14063.0   \n",
              "\n",
              "            sub_metering_4  \n",
              "datetime                    \n",
              "2006-12-16    14680.933319  \n",
              "2006-12-17    36946.666732  \n",
              "2006-12-18    19028.433281  \n",
              "2006-12-19    13131.900043  \n",
              "2006-12-20    20384.800011  "
            ],
            "text/html": [
              "\n",
              "  <div id=\"df-48a416d2-699d-4748-ab6b-f145f2c150e1\" class=\"colab-df-container\">\n",
              "    <div>\n",
              "<style scoped>\n",
              "    .dataframe tbody tr th:only-of-type {\n",
              "        vertical-align: middle;\n",
              "    }\n",
              "\n",
              "    .dataframe tbody tr th {\n",
              "        vertical-align: top;\n",
              "    }\n",
              "\n",
              "    .dataframe thead th {\n",
              "        text-align: right;\n",
              "    }\n",
              "</style>\n",
              "<table border=\"1\" class=\"dataframe\">\n",
              "  <thead>\n",
              "    <tr style=\"text-align: right;\">\n",
              "      <th></th>\n",
              "      <th>Global_active_power</th>\n",
              "      <th>Global_reactive_power</th>\n",
              "      <th>Voltage</th>\n",
              "      <th>Global_intensity</th>\n",
              "      <th>Sub_metering_1</th>\n",
              "      <th>Sub_metering_2</th>\n",
              "      <th>Sub_metering_3</th>\n",
              "      <th>sub_metering_4</th>\n",
              "    </tr>\n",
              "    <tr>\n",
              "      <th>datetime</th>\n",
              "      <th></th>\n",
              "      <th></th>\n",
              "      <th></th>\n",
              "      <th></th>\n",
              "      <th></th>\n",
              "      <th></th>\n",
              "      <th></th>\n",
              "      <th></th>\n",
              "    </tr>\n",
              "  </thead>\n",
              "  <tbody>\n",
              "    <tr>\n",
              "      <th>2006-12-16</th>\n",
              "      <td>1209.176</td>\n",
              "      <td>34.922</td>\n",
              "      <td>93552.53</td>\n",
              "      <td>5180.8</td>\n",
              "      <td>0.0</td>\n",
              "      <td>546.0</td>\n",
              "      <td>4926.0</td>\n",
              "      <td>14680.933319</td>\n",
              "    </tr>\n",
              "    <tr>\n",
              "      <th>2006-12-17</th>\n",
              "      <td>3390.460</td>\n",
              "      <td>226.006</td>\n",
              "      <td>345725.32</td>\n",
              "      <td>14398.6</td>\n",
              "      <td>2033.0</td>\n",
              "      <td>4187.0</td>\n",
              "      <td>13341.0</td>\n",
              "      <td>36946.666732</td>\n",
              "    </tr>\n",
              "    <tr>\n",
              "      <th>2006-12-18</th>\n",
              "      <td>2203.826</td>\n",
              "      <td>161.792</td>\n",
              "      <td>347373.64</td>\n",
              "      <td>9247.2</td>\n",
              "      <td>1063.0</td>\n",
              "      <td>2621.0</td>\n",
              "      <td>14018.0</td>\n",
              "      <td>19028.433281</td>\n",
              "    </tr>\n",
              "    <tr>\n",
              "      <th>2006-12-19</th>\n",
              "      <td>1666.194</td>\n",
              "      <td>150.942</td>\n",
              "      <td>348479.01</td>\n",
              "      <td>7094.0</td>\n",
              "      <td>839.0</td>\n",
              "      <td>7602.0</td>\n",
              "      <td>6197.0</td>\n",
              "      <td>13131.900043</td>\n",
              "    </tr>\n",
              "    <tr>\n",
              "      <th>2006-12-20</th>\n",
              "      <td>2225.748</td>\n",
              "      <td>160.998</td>\n",
              "      <td>348923.61</td>\n",
              "      <td>9313.0</td>\n",
              "      <td>0.0</td>\n",
              "      <td>2648.0</td>\n",
              "      <td>14063.0</td>\n",
              "      <td>20384.800011</td>\n",
              "    </tr>\n",
              "  </tbody>\n",
              "</table>\n",
              "</div>\n",
              "    <div class=\"colab-df-buttons\">\n",
              "\n",
              "  <div class=\"colab-df-container\">\n",
              "    <button class=\"colab-df-convert\" onclick=\"convertToInteractive('df-48a416d2-699d-4748-ab6b-f145f2c150e1')\"\n",
              "            title=\"Convert this dataframe to an interactive table.\"\n",
              "            style=\"display:none;\">\n",
              "\n",
              "  <svg xmlns=\"http://www.w3.org/2000/svg\" height=\"24px\" viewBox=\"0 -960 960 960\">\n",
              "    <path d=\"M120-120v-720h720v720H120Zm60-500h600v-160H180v160Zm220 220h160v-160H400v160Zm0 220h160v-160H400v160ZM180-400h160v-160H180v160Zm440 0h160v-160H620v160ZM180-180h160v-160H180v160Zm440 0h160v-160H620v160Z\"/>\n",
              "  </svg>\n",
              "    </button>\n",
              "\n",
              "  <style>\n",
              "    .colab-df-container {\n",
              "      display:flex;\n",
              "      gap: 12px;\n",
              "    }\n",
              "\n",
              "    .colab-df-convert {\n",
              "      background-color: #E8F0FE;\n",
              "      border: none;\n",
              "      border-radius: 50%;\n",
              "      cursor: pointer;\n",
              "      display: none;\n",
              "      fill: #1967D2;\n",
              "      height: 32px;\n",
              "      padding: 0 0 0 0;\n",
              "      width: 32px;\n",
              "    }\n",
              "\n",
              "    .colab-df-convert:hover {\n",
              "      background-color: #E2EBFA;\n",
              "      box-shadow: 0px 1px 2px rgba(60, 64, 67, 0.3), 0px 1px 3px 1px rgba(60, 64, 67, 0.15);\n",
              "      fill: #174EA6;\n",
              "    }\n",
              "\n",
              "    .colab-df-buttons div {\n",
              "      margin-bottom: 4px;\n",
              "    }\n",
              "\n",
              "    [theme=dark] .colab-df-convert {\n",
              "      background-color: #3B4455;\n",
              "      fill: #D2E3FC;\n",
              "    }\n",
              "\n",
              "    [theme=dark] .colab-df-convert:hover {\n",
              "      background-color: #434B5C;\n",
              "      box-shadow: 0px 1px 3px 1px rgba(0, 0, 0, 0.15);\n",
              "      filter: drop-shadow(0px 1px 2px rgba(0, 0, 0, 0.3));\n",
              "      fill: #FFFFFF;\n",
              "    }\n",
              "  </style>\n",
              "\n",
              "    <script>\n",
              "      const buttonEl =\n",
              "        document.querySelector('#df-48a416d2-699d-4748-ab6b-f145f2c150e1 button.colab-df-convert');\n",
              "      buttonEl.style.display =\n",
              "        google.colab.kernel.accessAllowed ? 'block' : 'none';\n",
              "\n",
              "      async function convertToInteractive(key) {\n",
              "        const element = document.querySelector('#df-48a416d2-699d-4748-ab6b-f145f2c150e1');\n",
              "        const dataTable =\n",
              "          await google.colab.kernel.invokeFunction('convertToInteractive',\n",
              "                                                    [key], {});\n",
              "        if (!dataTable) return;\n",
              "\n",
              "        const docLinkHtml = 'Like what you see? Visit the ' +\n",
              "          '<a target=\"_blank\" href=https://colab.research.google.com/notebooks/data_table.ipynb>data table notebook</a>'\n",
              "          + ' to learn more about interactive tables.';\n",
              "        element.innerHTML = '';\n",
              "        dataTable['output_type'] = 'display_data';\n",
              "        await google.colab.output.renderOutput(dataTable, element);\n",
              "        const docLink = document.createElement('div');\n",
              "        docLink.innerHTML = docLinkHtml;\n",
              "        element.appendChild(docLink);\n",
              "      }\n",
              "    </script>\n",
              "  </div>\n",
              "\n",
              "\n",
              "<div id=\"df-7de773a9-08f6-45f1-b273-fdc13941cbb2\">\n",
              "  <button class=\"colab-df-quickchart\" onclick=\"quickchart('df-7de773a9-08f6-45f1-b273-fdc13941cbb2')\"\n",
              "            title=\"Suggest charts\"\n",
              "            style=\"display:none;\">\n",
              "\n",
              "<svg xmlns=\"http://www.w3.org/2000/svg\" height=\"24px\"viewBox=\"0 0 24 24\"\n",
              "     width=\"24px\">\n",
              "    <g>\n",
              "        <path d=\"M19 3H5c-1.1 0-2 .9-2 2v14c0 1.1.9 2 2 2h14c1.1 0 2-.9 2-2V5c0-1.1-.9-2-2-2zM9 17H7v-7h2v7zm4 0h-2V7h2v10zm4 0h-2v-4h2v4z\"/>\n",
              "    </g>\n",
              "</svg>\n",
              "  </button>\n",
              "\n",
              "<style>\n",
              "  .colab-df-quickchart {\n",
              "      --bg-color: #E8F0FE;\n",
              "      --fill-color: #1967D2;\n",
              "      --hover-bg-color: #E2EBFA;\n",
              "      --hover-fill-color: #174EA6;\n",
              "      --disabled-fill-color: #AAA;\n",
              "      --disabled-bg-color: #DDD;\n",
              "  }\n",
              "\n",
              "  [theme=dark] .colab-df-quickchart {\n",
              "      --bg-color: #3B4455;\n",
              "      --fill-color: #D2E3FC;\n",
              "      --hover-bg-color: #434B5C;\n",
              "      --hover-fill-color: #FFFFFF;\n",
              "      --disabled-bg-color: #3B4455;\n",
              "      --disabled-fill-color: #666;\n",
              "  }\n",
              "\n",
              "  .colab-df-quickchart {\n",
              "    background-color: var(--bg-color);\n",
              "    border: none;\n",
              "    border-radius: 50%;\n",
              "    cursor: pointer;\n",
              "    display: none;\n",
              "    fill: var(--fill-color);\n",
              "    height: 32px;\n",
              "    padding: 0;\n",
              "    width: 32px;\n",
              "  }\n",
              "\n",
              "  .colab-df-quickchart:hover {\n",
              "    background-color: var(--hover-bg-color);\n",
              "    box-shadow: 0 1px 2px rgba(60, 64, 67, 0.3), 0 1px 3px 1px rgba(60, 64, 67, 0.15);\n",
              "    fill: var(--button-hover-fill-color);\n",
              "  }\n",
              "\n",
              "  .colab-df-quickchart-complete:disabled,\n",
              "  .colab-df-quickchart-complete:disabled:hover {\n",
              "    background-color: var(--disabled-bg-color);\n",
              "    fill: var(--disabled-fill-color);\n",
              "    box-shadow: none;\n",
              "  }\n",
              "\n",
              "  .colab-df-spinner {\n",
              "    border: 2px solid var(--fill-color);\n",
              "    border-color: transparent;\n",
              "    border-bottom-color: var(--fill-color);\n",
              "    animation:\n",
              "      spin 1s steps(1) infinite;\n",
              "  }\n",
              "\n",
              "  @keyframes spin {\n",
              "    0% {\n",
              "      border-color: transparent;\n",
              "      border-bottom-color: var(--fill-color);\n",
              "      border-left-color: var(--fill-color);\n",
              "    }\n",
              "    20% {\n",
              "      border-color: transparent;\n",
              "      border-left-color: var(--fill-color);\n",
              "      border-top-color: var(--fill-color);\n",
              "    }\n",
              "    30% {\n",
              "      border-color: transparent;\n",
              "      border-left-color: var(--fill-color);\n",
              "      border-top-color: var(--fill-color);\n",
              "      border-right-color: var(--fill-color);\n",
              "    }\n",
              "    40% {\n",
              "      border-color: transparent;\n",
              "      border-right-color: var(--fill-color);\n",
              "      border-top-color: var(--fill-color);\n",
              "    }\n",
              "    60% {\n",
              "      border-color: transparent;\n",
              "      border-right-color: var(--fill-color);\n",
              "    }\n",
              "    80% {\n",
              "      border-color: transparent;\n",
              "      border-right-color: var(--fill-color);\n",
              "      border-bottom-color: var(--fill-color);\n",
              "    }\n",
              "    90% {\n",
              "      border-color: transparent;\n",
              "      border-bottom-color: var(--fill-color);\n",
              "    }\n",
              "  }\n",
              "</style>\n",
              "\n",
              "  <script>\n",
              "    async function quickchart(key) {\n",
              "      const quickchartButtonEl =\n",
              "        document.querySelector('#' + key + ' button');\n",
              "      quickchartButtonEl.disabled = true;  // To prevent multiple clicks.\n",
              "      quickchartButtonEl.classList.add('colab-df-spinner');\n",
              "      try {\n",
              "        const charts = await google.colab.kernel.invokeFunction(\n",
              "            'suggestCharts', [key], {});\n",
              "      } catch (error) {\n",
              "        console.error('Error during call to suggestCharts:', error);\n",
              "      }\n",
              "      quickchartButtonEl.classList.remove('colab-df-spinner');\n",
              "      quickchartButtonEl.classList.add('colab-df-quickchart-complete');\n",
              "    }\n",
              "    (() => {\n",
              "      let quickchartButtonEl =\n",
              "        document.querySelector('#df-7de773a9-08f6-45f1-b273-fdc13941cbb2 button');\n",
              "      quickchartButtonEl.style.display =\n",
              "        google.colab.kernel.accessAllowed ? 'block' : 'none';\n",
              "    })();\n",
              "  </script>\n",
              "</div>\n",
              "\n",
              "    </div>\n",
              "  </div>\n"
            ],
            "application/vnd.google.colaboratory.intrinsic+json": {
              "type": "dataframe",
              "variable_name": "dataset",
              "summary": "{\n  \"name\": \"dataset\",\n  \"rows\": 1442,\n  \"fields\": [\n    {\n      \"column\": \"datetime\",\n      \"properties\": {\n        \"dtype\": \"date\",\n        \"min\": \"2006-12-16 00:00:00\",\n        \"max\": \"2010-11-26 00:00:00\",\n        \"num_unique_values\": 1442,\n        \"samples\": [\n          \"2008-01-31 00:00:00\",\n          \"2008-08-06 00:00:00\",\n          \"2008-06-19 00:00:00\"\n        ],\n        \"semantic_type\": \"\",\n        \"description\": \"\"\n      }\n    },\n    {\n      \"column\": \"Global_active_power\",\n      \"properties\": {\n        \"dtype\": \"number\",\n        \"std\": 597.3068561540081,\n        \"min\": 250.2979999999996,\n        \"max\": 4773.385999999998,\n        \"num_unique_values\": 1433,\n        \"samples\": [\n          2611.2639999999988,\n          749.3520000000003,\n          2035.328\n        ],\n        \"semantic_type\": \"\",\n        \"description\": \"\"\n      }\n    },\n    {\n      \"column\": \"Global_reactive_power\",\n      \"properties\": {\n        \"dtype\": \"number\",\n        \"std\": 48.88169143123389,\n        \"min\": 34.921999999999976,\n        \"max\": 417.8339999999989,\n        \"num_unique_values\": 1433,\n        \"samples\": [\n          141.31400000000002,\n          183.6640000000004,\n          295.69400000000024\n        ],\n        \"semantic_type\": \"\",\n        \"description\": \"\"\n      }\n    },\n    {\n      \"column\": \"Voltage\",\n      \"properties\": {\n        \"dtype\": \"number\",\n        \"std\": 7375.850039870925,\n        \"min\": 93552.53000000006,\n        \"max\": 356306.4099999997,\n        \"num_unique_values\": 1433,\n        \"samples\": [\n          348689.5699999999,\n          345831.3300000005,\n          347465.4399999997\n        ],\n        \"semantic_type\": \"\",\n        \"description\": \"\"\n      }\n    },\n    {\n      \"column\": \"Global_intensity\",\n      \"properties\": {\n        \"dtype\": \"number\",\n        \"std\": 2472.108923603423,\n        \"min\": 1163.9999999999998,\n        \"max\": 20200.400000000005,\n        \"num_unique_values\": 1433,\n        \"samples\": [\n          10934.600000000004,\n          3356.7999999999884,\n          8674.599999999997\n        ],\n        \"semantic_type\": \"\",\n        \"description\": \"\"\n      }\n    },\n    {\n      \"column\": \"Sub_metering_1\",\n      \"properties\": {\n        \"dtype\": \"number\",\n        \"std\": 1581.7260350954891,\n        \"min\": 0.0,\n        \"max\": 11178.0,\n        \"num_unique_values\": 870,\n        \"samples\": [\n          1764.0,\n          1865.0,\n          5268.0\n        ],\n        \"semantic_type\": \"\",\n        \"description\": \"\"\n      }\n    },\n    {\n      \"column\": \"Sub_metering_2\",\n      \"properties\": {\n        \"dtype\": \"number\",\n        \"std\": 2085.161400055643,\n        \"min\": 0.0,\n        \"max\": 12109.0,\n        \"num_unique_values\": 1030,\n        \"samples\": [\n          644.0,\n          485.0,\n          949.0\n        ],\n        \"semantic_type\": \"\",\n        \"description\": \"\"\n      }\n    },\n    {\n      \"column\": \"Sub_metering_3\",\n      \"properties\": {\n        \"dtype\": \"number\",\n        \"std\": 3674.9155768896267,\n        \"min\": 1288.0,\n        \"max\": 23743.0,\n        \"num_unique_values\": 1347,\n        \"samples\": [\n          7371.0,\n          13797.0,\n          8818.0\n        ],\n        \"semantic_type\": \"\",\n        \"description\": \"\"\n      }\n    },\n    {\n      \"column\": \"sub_metering_4\",\n      \"properties\": {\n        \"dtype\": \"number\",\n        \"std\": 6071.784571663048,\n        \"min\": 2313.6333464500085,\n        \"max\": 61736.433385800025,\n        \"num_unique_values\": 1433,\n        \"samples\": [\n          22479.066660900044,\n          7103.20000890999,\n          14989.133297649996\n        ],\n        \"semantic_type\": \"\",\n        \"description\": \"\"\n      }\n    }\n  ]\n}"
            }
          },
          "metadata": {},
          "execution_count": 12
        }
      ]
    },
    {
      "cell_type": "markdown",
      "source": [
        "Fill missing values with a value at the same time one day ago"
      ],
      "metadata": {
        "id": "eGGB9eSixk5j"
      }
    },
    {
      "cell_type": "code",
      "source": [
        "# def fill_missing(values):\n",
        "# \tone_day = 60 * 24\n",
        "# \tfor row in range(values.shape[0]):\n",
        "# \t\tfor col in range(values.shape[1]):\n",
        "# \t\t\tif isnan(values[row, col]):\n",
        "# \t\t\t\tvalues[row, col] = values[row - one_day, col]"
      ],
      "metadata": {
        "id": "eIuH2SV_xm_a"
      },
      "execution_count": null,
      "outputs": []
    },
    {
      "cell_type": "code",
      "source": [
        "# # fill missing\n",
        "# fill_missing(dataset.values)\n",
        "# # add a column for for the remainder of sub metering\n",
        "# values = dataset.values\n",
        "# dataset['sub_metering_4'] = (values[:,0] * 1000 / 60) - (values[:,4] + values[:,5] + values[:,6])\n",
        "# # save updated dataset\n",
        "# dataset.to_csv('household_power_consumption.csv')"
      ],
      "metadata": {
        "id": "dVvti-lX48pp"
      },
      "execution_count": null,
      "outputs": []
    },
    {
      "cell_type": "code",
      "source": [
        "dataset.isnull().sum()"
      ],
      "metadata": {
        "colab": {
          "base_uri": "https://localhost:8080/"
        },
        "id": "NXat7OgZxZPR",
        "outputId": "f423fd2a-1de6-4197-930f-602b44c538f6"
      },
      "execution_count": 5,
      "outputs": [
        {
          "output_type": "execute_result",
          "data": {
            "text/plain": [
              "datetime                 0\n",
              "Global_active_power      0\n",
              "Global_reactive_power    0\n",
              "Voltage                  0\n",
              "Global_intensity         0\n",
              "Sub_metering_1           0\n",
              "Sub_metering_2           0\n",
              "Sub_metering_3           0\n",
              "sub_metering_4           0\n",
              "dtype: int64"
            ]
          },
          "metadata": {},
          "execution_count": 5
        }
      ]
    },
    {
      "cell_type": "markdown",
      "source": [
        "Define function to split data into train and test"
      ],
      "metadata": {
        "id": "T_rom6u05qpm"
      }
    },
    {
      "cell_type": "code",
      "source": [
        "# split a univariate dataset into train/test sets\n",
        "def split_dataset(data):\n",
        "\t# split into standard weeks\n",
        "\ttrain, test = data[1:-328], data[-328:-6]\n",
        "\t# restructure into windows of weekly data\n",
        "\ttrain = array(split(train, len(train)/7))\n",
        "\ttest = array(split(test, len(test)/7))\n",
        "\treturn train, test"
      ],
      "metadata": {
        "id": "O_fZ5up75nyl"
      },
      "execution_count": 15,
      "outputs": []
    },
    {
      "cell_type": "code",
      "source": [
        "# split into train and test\n",
        "train, test = split_dataset(dataset.values)\n",
        "test.shape"
      ],
      "metadata": {
        "colab": {
          "base_uri": "https://localhost:8080/"
        },
        "id": "ayDWccAK6Cer",
        "outputId": "b86284e9-72fb-424b-a8c9-57d87af08c7d"
      },
      "execution_count": 19,
      "outputs": [
        {
          "output_type": "execute_result",
          "data": {
            "text/plain": [
              "(46, 7, 8)"
            ]
          },
          "metadata": {},
          "execution_count": 19
        }
      ]
    },
    {
      "cell_type": "markdown",
      "source": [
        "Lets Define functions for model buliding and model evaluation"
      ],
      "metadata": {
        "id": "tp5zbhF56tB2"
      }
    },
    {
      "cell_type": "code",
      "source": [
        "# prepare a list of ml models\n",
        "def get_models(models=dict()):\n",
        "\t# linear models\n",
        "\tmodels['lr'] = LinearRegression()\n",
        "\tmodels['lasso'] = Lasso()\n",
        "\tmodels['ridge'] = Ridge()\n",
        "\tmodels['en'] = ElasticNet()\n",
        "\tmodels['huber'] = HuberRegressor()\n",
        "\tmodels['lars'] = Lars()\n",
        "\tmodels['llars'] = LassoLars()\n",
        "\tmodels['pa'] = PassiveAggressiveRegressor(max_iter=1000, tol=1e-3)\n",
        "\tmodels['ranscac'] = RANSACRegressor()\n",
        "\tmodels['sgd'] = SGDRegressor(max_iter=1000, tol=1e-3)\n",
        "\tprint('Defined %d models' % len(models))\n",
        "\treturn models"
      ],
      "metadata": {
        "id": "malsSUKS6Cfi"
      },
      "execution_count": 20,
      "outputs": []
    },
    {
      "cell_type": "code",
      "source": [
        "# evaluate one or more weekly forecasts against expected values\n",
        "def evaluate_forecasts(actual, predicted):\n",
        "\tscores = list()\n",
        "\t# calculate an RMSE score for each day\n",
        "\tfor i in range(actual.shape[1]):\n",
        "\t\t# calculate mse\n",
        "\t\tmse = mean_squared_error(actual[:, i], predicted[:, i])\n",
        "\t\t# calculate rmse\n",
        "\t\trmse = sqrt(mse)\n",
        "\t\t# store\n",
        "\t\tscores.append(rmse)\n",
        "\t# calculate overall RMSE\n",
        "\ts = 0\n",
        "\tfor row in range(actual.shape[0]):\n",
        "\t\tfor col in range(actual.shape[1]):\n",
        "\t\t\ts += (actual[row, col] - predicted[row, col])**2\n",
        "\tscore = sqrt(s / (actual.shape[0] * actual.shape[1]))\n",
        "\treturn score, scores"
      ],
      "metadata": {
        "id": "oAKoifQz6zRr"
      },
      "execution_count": 21,
      "outputs": []
    },
    {
      "cell_type": "code",
      "source": [
        "# summarize scores\n",
        "def summarize_scores(name, score, scores):\n",
        "\ts_scores = ', '.join(['%.1f' % s for s in scores])\n",
        "\tprint('%s: [%.3f] %s' % (name, score, s_scores))"
      ],
      "metadata": {
        "id": "ztGT8T7x62Vg"
      },
      "execution_count": 22,
      "outputs": []
    },
    {
      "cell_type": "markdown",
      "source": [
        "Let's call the models and evaluate against the actuals"
      ],
      "metadata": {
        "id": "xy0yXGko62--"
      }
    },
    {
      "cell_type": "code",
      "source": [
        "# create a feature preparation pipeline for a model\n",
        "def make_pipeline(model):\n",
        "\tsteps = list()\n",
        "\t# standardization\n",
        "\tsteps.append(('standardize', StandardScaler()))\n",
        "\t# normalization\n",
        "\tsteps.append(('normalize', MinMaxScaler()))\n",
        "\t# the model\n",
        "\tsteps.append(('model', model))\n",
        "\t# create pipeline\n",
        "\tpipeline = Pipeline(steps=steps)\n",
        "\treturn pipeline"
      ],
      "metadata": {
        "id": "FnC251hF6592"
      },
      "execution_count": 23,
      "outputs": []
    },
    {
      "cell_type": "code",
      "source": [
        "# make a recursive multi-step forecast\n",
        "def forecast(model, input_x, n_input):\n",
        "\tyhat_sequence = list()\n",
        "\tinput_data = [x for x in input_x]\n",
        "\tfor j in range(7):\n",
        "\t\t# prepare the input data\n",
        "\t\tX = array(input_data[-n_input:]).reshape(1, n_input)\n",
        "\t\t# make a one-step forecast\n",
        "\t\tyhat = model.predict(X)[0]\n",
        "\t\t# add to the result\n",
        "\t\tyhat_sequence.append(yhat)\n",
        "\t\t# add the prediction to the input\n",
        "\t\tinput_data.append(yhat)\n",
        "\treturn yhat_sequence"
      ],
      "metadata": {
        "id": "jVj3JPyZ69HO"
      },
      "execution_count": 24,
      "outputs": []
    },
    {
      "cell_type": "code",
      "source": [
        "# convert windows of weekly multivariate data into a series of total power\n",
        "def to_series(data):\n",
        "\t# extract just the total power from each week\n",
        "\tseries = [week[:, 0] for week in data]\n",
        "\t# flatten into a single series\n",
        "\tseries = array(series).flatten()\n",
        "\treturn series"
      ],
      "metadata": {
        "id": "WJ0aBI0Y6_Nw"
      },
      "execution_count": 25,
      "outputs": []
    },
    {
      "cell_type": "code",
      "source": [
        "# convert history into inputs and outputs\n",
        "def to_supervised(history, n_input):\n",
        "\t# convert history to a univariate series\n",
        "\tdata = to_series(history)\n",
        "\tX, y = list(), list()\n",
        "\tix_start = 0\n",
        "\t# step over the entire history one time step at a time\n",
        "\tfor i in range(len(data)):\n",
        "\t\t# define the end of the input sequence\n",
        "\t\tix_end = ix_start + n_input\n",
        "\t\t# ensure we have enough data for this instance\n",
        "\t\tif ix_end < len(data):\n",
        "\t\t\tX.append(data[ix_start:ix_end])\n",
        "\t\t\ty.append(data[ix_end])\n",
        "\t\t# move along one time step\n",
        "\t\tix_start += 1\n",
        "\treturn array(X), array(y)"
      ],
      "metadata": {
        "id": "OqEtgfzr7BjZ"
      },
      "execution_count": 26,
      "outputs": []
    },
    {
      "cell_type": "code",
      "source": [
        "# fit a model and make a forecast\n",
        "def sklearn_predict(model, history, n_input):\n",
        "\t# prepare data\n",
        "\ttrain_x, train_y = to_supervised(history, n_input)\n",
        "\t# make pipeline\n",
        "\tpipeline = make_pipeline(model)\n",
        "\t# fit the model\n",
        "\tpipeline.fit(train_x, train_y)\n",
        "\t# predict the week, recursively\n",
        "\tyhat_sequence = forecast(pipeline, train_x[-1, :], n_input)\n",
        "\treturn yhat_sequence"
      ],
      "metadata": {
        "id": "FwqiRPbR7D4I"
      },
      "execution_count": 27,
      "outputs": []
    },
    {
      "cell_type": "code",
      "source": [
        "# evaluate a single model\n",
        "def evaluate_model(model, train, test, n_input):\n",
        "\t# history is a list of weekly data\n",
        "\thistory = [x for x in train]\n",
        "\t# walk-forward validation over each week\n",
        "\tpredictions = list()\n",
        "\tfor i in range(len(test)):\n",
        "\t\t# predict the week\n",
        "\t\tyhat_sequence = sklearn_predict(model, history, n_input)\n",
        "\t\t# store the predictions\n",
        "\t\tpredictions.append(yhat_sequence)\n",
        "\t\t# get real observation and add to history for predicting the next week\n",
        "\t\thistory.append(test[i, :])\n",
        "\tpredictions = array(predictions)\n",
        "\t# evaluate predictions days for each week\n",
        "\tscore, scores = evaluate_forecasts(test[:, :, 0], predictions)\n",
        "\treturn score, scores"
      ],
      "metadata": {
        "id": "2uvPpFy_7GkR"
      },
      "execution_count": 28,
      "outputs": []
    },
    {
      "cell_type": "code",
      "source": [
        "# prepare the models to evaluate\n",
        "models = get_models()\n",
        "n_input = 7\n",
        "# evaluate each model\n",
        "days = ['sun', 'mon', 'tue', 'wed', 'thr', 'fri', 'sat']\n",
        "for name, model in models.items():\n",
        "\t# evaluate and get scores\n",
        "\tscore, scores = evaluate_model(model, train, test, n_input)\n",
        "\t# summarize scores\n",
        "\tsummarize_scores(name, score, scores)\n",
        "\t# plot scores\n",
        "\tpyplot.plot(days, scores, marker='o', label=name)\n",
        "# show plot\n",
        "pyplot.legend()\n",
        "pyplot.show()"
      ],
      "metadata": {
        "colab": {
          "base_uri": "https://localhost:8080/",
          "height": 621
        },
        "id": "zMJeFlhi7I7c",
        "outputId": "e481c5f3-788c-4783-ce55-8729a5e02281"
      },
      "execution_count": 29,
      "outputs": [
        {
          "output_type": "stream",
          "name": "stdout",
          "text": [
            "Defined 10 models\n",
            "lr: [388.388] 411.0, 389.1, 338.0, 370.8, 408.5, 308.3, 471.1\n",
            "lasso: [386.838] 403.6, 388.9, 337.3, 371.1, 406.1, 307.6, 471.6\n",
            "ridge: [387.659] 407.9, 388.6, 337.5, 371.2, 407.0, 307.7, 471.7\n",
            "en: [469.337] 452.2, 451.9, 435.8, 485.7, 460.4, 405.8, 575.1\n",
            "huber: [392.465] 412.1, 388.0, 337.9, 377.3, 405.6, 306.9, 492.5\n",
            "lars: [388.388] 411.0, 389.1, 338.0, 370.8, 408.5, 308.3, 471.1\n",
            "llars: [386.836] 403.6, 388.9, 337.3, 371.1, 406.1, 307.6, 471.6\n",
            "pa: [402.079] 418.3, 391.0, 341.7, 386.5, 412.9, 319.3, 515.0\n",
            "ranscac: [448.498] 508.5, 458.4, 364.5, 392.0, 449.3, 381.2, 552.9\n",
            "sgd: [387.623] 406.6, 390.2, 336.8, 371.5, 407.5, 308.2, 470.8\n"
          ]
        },
        {
          "output_type": "display_data",
          "data": {
            "text/plain": [
              "<Figure size 640x480 with 1 Axes>"
            ],
            "image/png": "[encoded data removed]"
          },
          "metadata": {}
        }
      ]
    },
    {
      "cell_type": "code",
      "source": [],
      "metadata": {
        "id": "_Ogk8UhC7I8a"
      },
      "execution_count": null,
      "outputs": []
    }
  ]
}